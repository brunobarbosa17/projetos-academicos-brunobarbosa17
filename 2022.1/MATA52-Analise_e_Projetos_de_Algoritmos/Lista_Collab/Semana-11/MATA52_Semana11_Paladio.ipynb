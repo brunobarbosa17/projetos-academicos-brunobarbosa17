{
  "nbformat": 4,
  "nbformat_minor": 0,
  "metadata": {
    "colab": {
      "name": "MATA52-Semana11-Paladio.ipynb",
      "provenance": [],
      "collapsed_sections": []
    },
    "kernelspec": {
      "name": "python3",
      "display_name": "Python 3"
    },
    "language_info": {
      "name": "python"
    }
  },
  "cells": [
    {
      "cell_type": "markdown",
      "metadata": {
        "id": "goIk5UkNPLG_"
      },
      "source": [
        "# MATA52 - Exercícios da Semana 11\n",
        "\n",
        "*   Grupo: Paládio\n",
        "*   Autores: \n",
        " * Monique Santos da Silva (Responsável)\n",
        "     * Respondi a segunda questão.\n",
        " *  Elis Marcela de Souza Alcantara\n",
        "     * Respondi a primeira questão.\n",
        " *  Bruno de Lucas Santos Barbosa\n",
        "     * Respondi a terceira questão. [impossível corrigir]\n"
      ]
    },
    {
      "cell_type": "markdown",
      "source": [
        "# Instruções (não apagar)\n",
        "1. **Responsável**: Após copiar este notebook, altere o nome do notebook/documentação incluindo o nome do seu grupo. Por exemplo, se você é do grupo Ouro, altere o nome do notebook para \"MATA53-Semana02-Ouro.ipynb\"\n",
        "1. **Responsável**: Compartilhe este documento com todos os membros do grupo (para participarem da elaboração deste documento). É importante que o notebook utilizado seja o mesmo compartilhado para que os registros de participação e colaboração fiquem salvos no histórico. Sugira uma divisão justa e defina um prazo aceitável para a inserção das soluções no Colab.\n",
        "1. **Responsável**: Ao concluir a atividade, compartilhe o notebook com januario.ufba@gmail.com (dando permisão para edição) e deixando o aviso de notificação marcado, para que eu receba o seu e-mail. Identificar o nome do grupo na mensagem de compartilhamento.\n",
        "1. **Cada membro**: Incluia o *seu próprio nome completo* na lista de autores que auxiliaram na elaboração deste notebook. Relate brevemente a sua contribuição na solução desta lista. O responsável aparece como sendo o(a) primeiro(a) autor(a).\n",
        "1. **Cada membro**: Utilize os recursos de blocos de texto e de código para adicionar as suas respostas, sem alterar os blocos de texto e código existente. Não economize, esses blocos são de graça.\n",
        "\n",
        "\n"
      ],
      "metadata": {
        "id": "p9cljaaYlYLl"
      }
    },
    {
      "cell_type": "markdown",
      "metadata": {
        "id": "_s9ft-1uYos8"
      },
      "source": [
        "# Exercícios"
      ]
    },
    {
      "cell_type": "markdown",
      "source": [
        "**Para cada um dos problemas abaixo, apresente um algoritmo aproximativo \n",
        "em Python e analise o fator de aproximação**"
      ],
      "metadata": {
        "id": "MgoWmO0mcZSh"
      }
    },
    {
      "cell_type": "markdown",
      "metadata": {
        "id": "17ICucpS9m9R"
      },
      "source": [
        "# 1. Dados um conjunto de elementos inteiros positivos S = {$x_1, . . . , x_n$} e um inteiro positivo t deve-se achar subconjunto S′ ⊆ S tal que a soma dos elementos em S′ seja máxima mas menor ou igual a t. "
      ]
    },
    {
      "cell_type": "markdown",
      "source": [
        "Como o programa cresce a partir da entrada de dados, creio que seja $O(n)$."
      ],
      "metadata": {
        "id": "mrg2ioKF4BA2"
      }
    },
    {
      "cell_type": "code",
      "source": [
        "from itertools import chain, combinations\n",
        "\n",
        "def pegar_subconjuntos_menores_iguais_a_t(conjunto, t):\n",
        "    s = list(conjunto)\n",
        "    subconjuntos = list(chain.from_iterable(combinations(s, r) for r in range(1, len(s)+1)))\n",
        "    for subconjunto in subconjuntos:\n",
        "        if sum(subconjunto) <= t:\n",
        "            print(subconjunto)\n",
        "\n",
        "pegar_subconjuntos_menores_iguais_a_t([1, 2, 3], 4)\n",
        "print(\"----------------------------\")\n",
        "pegar_subconjuntos_menores_iguais_a_t([1, 2, 3, 4, 5], 5)"
      ],
      "metadata": {
        "colab": {
          "base_uri": "https://localhost:8080/"
        },
        "id": "--1I64DbsbZ1",
        "outputId": "c49b1879-fac4-46fa-f5fc-66fa542bd526"
      },
      "execution_count": null,
      "outputs": [
        {
          "output_type": "stream",
          "name": "stdout",
          "text": [
            "(1,)\n",
            "(2,)\n",
            "(3,)\n",
            "(1, 2)\n",
            "(1, 3)\n",
            "----------------------------\n",
            "(1,)\n",
            "(2,)\n",
            "(3,)\n",
            "(4,)\n",
            "(5,)\n",
            "(1, 2)\n",
            "(1, 3)\n",
            "(1, 4)\n",
            "(2, 3)\n"
          ]
        }
      ]
    },
    {
      "cell_type": "markdown",
      "metadata": {
        "id": "qlynhQzj9yKc"
      },
      "source": [
        "# 2. Dado um conjunto universo { 1 , 2 , . . . , n } e uma coleção S de m conjuntos cuja união é igual ao conjunto universo, o problema de cobertura de conjunto é identificar a menor sub-coleção de S cuja união é igual ao conjunto universo."
      ]
    },
    {
      "cell_type": "markdown",
      "source": [
        "O problema de cobertura de conjunto é definido como um problema NP-Completo, o algoritmo que mais se aproxima da solução ótima em tempo polinomial é o algoritmo guloso, pois apresenta a complexidade $O(log(n))$.\n",
        "\n",
        "O algoritmo guloso seleciona o conjunto $S_i$ contendo o maior número de pontos descobertos em cada passo, até que todos os pontos tenham sido cobertos.\n"
      ],
      "metadata": {
        "id": "i-zpXwidSivS"
      }
    },
    {
      "cell_type": "code",
      "source": [
        "universo = set(range(1, 5))\n",
        "sub = [[1, 2, 3], [2, 4], [3, 4], [4, 5]]\n",
        "subconjuntos = [set(x) for x in sub]\n",
        "\n",
        "elementos = set(elem for subs in subconjuntos for elem in subs)\n",
        "coberto = set()\n",
        "cobertura = []\n",
        "\n",
        "while coberto != elementos:\n",
        "    subconjunto = max(subconjuntos, key=lambda subs: len(subs - coberto))\n",
        "    cobertura.append(subconjunto)\n",
        "    coberto |= subconjunto\n",
        "  \n",
        "print(cobertura)\n"
      ],
      "metadata": {
        "colab": {
          "base_uri": "https://localhost:8080/"
        },
        "id": "ro27COryRZHY",
        "outputId": "83c8843d-6d55-4853-ce34-78eff00f2b3e"
      },
      "execution_count": null,
      "outputs": [
        {
          "output_type": "stream",
          "name": "stdout",
          "text": [
            "[{1, 2, 3}, {4, 5}]\n"
          ]
        }
      ]
    },
    {
      "cell_type": "markdown",
      "metadata": {
        "id": "BpX4F_x19nZc"
      },
      "source": [
        "\n",
        "# 3. Dados n itens com tamanhos $s_1,s_2,...,s_n$ em que $s_i \\in [0,1]$. O objetivo é encontrar o menor número de “bins” (caixas) unitárias para armazenar os $n$ itens.\n",
        "\n",
        "O algoritmo em questão pode ser implementado em tempo $O(n^2)$\n",
        "Além de utilizar $2m - 2$ compartimentos\n",
        "$m = compartimentos$ nesta solução aproximadamente ótima\n",
        "\n",
        "\n",
        "\n",
        "```python\n",
        "\n",
        "def findM(peso, caixa):\n",
        "    sol = 0;\n",
        "    opt = caixa;\n",
        "    for i in range(len(peso)):\n",
        "        if opt >= peso[i]:\n",
        "            opt = opt - peso[i]\n",
        "        else:\n",
        "            sol += 1\n",
        "            opt = caixa - peso[i]\n",
        "    return sol\n",
        " \n",
        "peso = [5, 7 ,5 ,2 , 4 ,2 ,5 ,1 , 6]\n",
        "caixa = 9\n",
        " \n",
        "print(\"Número de bins: \", findM(peso, caixa))\n",
        "```\n",
        "\n"
      ]
    },
    {
      "cell_type": "markdown",
      "metadata": {
        "id": "jOuhIB2P92tI"
      },
      "source": [
        "# 4. Dado um conjunto $C = \\{ c_1 , . . . , c_n \\}$ de $n$ cidades $c_i$ e uma matriz de distâncias $( \\rho_{ij} )$ onde $\\rho i j = \\rho ( c_i , c_j )$ $( i , j \\in \\{ 1 , . . . , n \\},  ρ_{ij} = ρ_{ji} , ρ_{ii} = 0 )$, a tarefa passa por encontrar a permutação $\\pi \\in S_n$ = { s : { 1 , . . . , n } → { 1 , . . . , n } } que faça com que a função objectivo (distância do circuito) $f:S_{n}\\rightarrow \\mathbb {R} $, onde\n",
        "\n",
        "$$\n",
        "  f(\\pi) = \\sum_{i=1}^{n-1}\\rho\\pi(i),\\pi(i+1)+\\rho\\pi(n),\\pi(1)\n",
        "$$ atinja o seu mínimo.\n",
        "\n",
        "\n",
        "\n",
        "\n",
        "\n",
        "\n"
      ]
    }
  ]
}