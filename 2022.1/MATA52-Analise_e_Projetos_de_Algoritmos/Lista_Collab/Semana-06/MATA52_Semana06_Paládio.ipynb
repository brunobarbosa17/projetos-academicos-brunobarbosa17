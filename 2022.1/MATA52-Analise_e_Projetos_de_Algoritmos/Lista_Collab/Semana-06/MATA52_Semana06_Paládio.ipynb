{
  "nbformat": 4,
  "nbformat_minor": 0,
  "metadata": {
    "colab": {
      "name": "MATA52-Semana06-Paládio.ipynb",
      "provenance": [],
      "collapsed_sections": []
    },
    "kernelspec": {
      "name": "python3",
      "display_name": "Python 3"
    },
    "language_info": {
      "name": "python"
    }
  },
  "cells": [
    {
      "cell_type": "markdown",
      "metadata": {
        "id": "goIk5UkNPLG_"
      },
      "source": [
        "# MATA52 - Exercícios da Semana 06\n",
        "\n",
        "*   Grupo: Paládio\n",
        "*   Autores: \n",
        " * Elis Marcela de Souza Alcantara (Responsável)\n",
        "     * Resolvi a primeira questão.\n",
        " *  Bruno de Lucas Santos Barbosa\n",
        "     * Resolvi a quarta questão, apesar de reconhecer que não consegui provar de fato seguindo um modelo matemático, tentei provar através de uma forma mais conceitual como eu enxergo a propriedade gulosa no algoritmo da mochila.\n",
        " * Lucas dos Santos Lima \n",
        "     * Resolvi a segunda questão.\n",
        " * Monique Santos da Silva\n",
        "     * Resolvi a terceira questão, pesquisei e estudei sobre algoritmo guloso, como argumentar que um algoritmo guloso funciona, teste de eficiência e como encontrar um contraexemplo que mostre que nem sempre o algoritmo irá retornar uma solução ótima."
      ]
    },
    {
      "cell_type": "markdown",
      "source": [
        "# Instruções (não apagar)\n",
        "1. **Responsável**: Após copiar este notebook, altere o nome do notebook/documentação incluindo o nome do seu grupo. Por exemplo, se você é do grupo Ouro, altere o nome do notebook para \"MATA53-Semana02-Ouro.ipynb\"\n",
        "1. **Responsável**: Compartilhe este documento com todos os membros do grupo (para participarem da elaboração deste documento). É importante que o notebook utilizado seja o mesmo compartilhado para que os registros de participação e colaboração fiquem salvos no histórico. Sugira uma divisão justa e defina um prazo aceitável para a inserção das soluções no Colab.\n",
        "1. **Responsável**: Ao concluir a atividade, compartilhe o notebook com januario.ufba@gmail.com (dando permisão para edição) e deixando o aviso de notificação marcado, para que eu receba o seu e-mail. Identificar o nome do grupo na mensagem de compartilhamento.\n",
        "1. **Cada membro**: Incluia o *seu próprio nome completo* na lista de autores que auxiliaram na elaboração deste notebook. Relate brevemente a sua contribuição na solução desta lista. O responsável aparece como sendo o(a) primeiro(a) autor(a).\n",
        "1. **Cada membro**: Utilize os recursos de blocos de texto e de código para adicionar as suas respostas, sem alterar os blocos de texto e código existente. Não economize, esses blocos são de graça.\n",
        "\n",
        "\n"
      ],
      "metadata": {
        "id": "p9cljaaYlYLl"
      }
    },
    {
      "cell_type": "markdown",
      "metadata": {
        "id": "_s9ft-1uYos8"
      },
      "source": [
        "# Exercícios"
      ]
    },
    {
      "cell_type": "markdown",
      "source": [
        "# Considere o problema do troco para $n$ centavos utilizando o menor número possível de moedas. Assuma que cada valor de moeda é um número inteiro."
      ],
      "metadata": {
        "id": "9w2_bvYPVqMX"
      }
    },
    {
      "cell_type": "markdown",
      "metadata": {
        "id": "17ICucpS9m9R"
      },
      "source": [
        "## 1. Apresente um algoritmo que retorne o troco usando apenas moedas de 1, 5, 10, 25, e 50. Prove que o seu algoritmo obtém a solução ótima."
      ]
    },
    {
      "cell_type": "markdown",
      "source": [
        "O algoritmo guloso desenvolvido tem como princípio ordenar o conjunto de moedas de um modo decrescente e não exceder o valor do troco a ser pago. Como o conjunto de moedas apresentado é de $[1, 5 , 10, 25, 50]$, ele sempre vai retornar uma solução ótima por possuir as moedas $[1, 5, 10, 25]$.\n",
        "Um caso em que o algoritmo demonstra a apresentação de uma solução ótima é no caso do valor $30$, tem diversas formas de retornar o resultado desse valor, uma das soluções não ótimas seria devolver três moedas de $10$. O algoritmo apresentado retorna como melhor solução uma moeda de $25$ e uma de $5$.  "
      ],
      "metadata": {
        "id": "arBaK2kFW3YL"
      }
    },
    {
      "cell_type": "code",
      "source": [
        "MOEDAS = [1, 5, 10, 25, 50] # Conjunto de moedas\n",
        "MOEDAS.sort(reverse=True) # Ordenando de forma decrescente\n",
        "\n",
        "\n",
        "def calcularTroco(valor): # Parâmetro: valor para troco\n",
        "    solucao = [] # Conjunto de solução\n",
        "\n",
        "    for i in range(len(MOEDAS)): # Loop com parada no fim do conjunto de moedas\n",
        "        solucao.append(\"Moeda: \" + str(MOEDAS[i]) + \" Vezes utilizada: \" + str(valor // MOEDAS[i])) # Inserindo no conjunto solução todas as moedas e quantas foram utilizadas para o troco\n",
        "        valor %= MOEDAS[i] # Regulando o valor para troco\n",
        "\n",
        "    return solucao # Retorna a solução\n",
        "\n",
        "\n",
        "quantidadeCasosTeste = int(input())\n",
        "\n",
        "for i in range(quantidadeCasosTeste):\n",
        "    valorTroco = int(input())\n",
        "\n",
        "    print(\"Valor para troco: \" + str(valorTroco))\n",
        "    print(calcularTroco(valorTroco))\n"
      ],
      "metadata": {
        "colab": {
          "base_uri": "https://localhost:8080/"
        },
        "id": "Y9Dqa8FgfNeS",
        "outputId": "3aac2291-3280-4dba-9f7d-27d3e46a31d5"
      },
      "execution_count": null,
      "outputs": [
        {
          "output_type": "stream",
          "name": "stdout",
          "text": [
            "5\n",
            "30\n",
            "Valor para troco: 30\n",
            "['Moeda: 50 Vezes utilizada: 0', 'Moeda: 25 Vezes utilizada: 1', 'Moeda: 10 Vezes utilizada: 0', 'Moeda: 5 Vezes utilizada: 1', 'Moeda: 1 Vezes utilizada: 0']\n",
            "51\n",
            "Valor para troco: 51\n",
            "['Moeda: 50 Vezes utilizada: 1', 'Moeda: 25 Vezes utilizada: 0', 'Moeda: 10 Vezes utilizada: 0', 'Moeda: 5 Vezes utilizada: 0', 'Moeda: 1 Vezes utilizada: 1']\n",
            "33\n",
            "Valor para troco: 33\n",
            "['Moeda: 50 Vezes utilizada: 0', 'Moeda: 25 Vezes utilizada: 1', 'Moeda: 10 Vezes utilizada: 0', 'Moeda: 5 Vezes utilizada: 1', 'Moeda: 1 Vezes utilizada: 3']\n",
            "6\n",
            "Valor para troco: 6\n",
            "['Moeda: 50 Vezes utilizada: 0', 'Moeda: 25 Vezes utilizada: 0', 'Moeda: 10 Vezes utilizada: 0', 'Moeda: 5 Vezes utilizada: 1', 'Moeda: 1 Vezes utilizada: 1']\n",
            "25\n",
            "Valor para troco: 25\n",
            "['Moeda: 50 Vezes utilizada: 0', 'Moeda: 25 Vezes utilizada: 1', 'Moeda: 10 Vezes utilizada: 0', 'Moeda: 5 Vezes utilizada: 0', 'Moeda: 1 Vezes utilizada: 0']\n"
          ]
        }
      ]
    },
    {
      "cell_type": "markdown",
      "metadata": {
        "id": "qlynhQzj9yKc"
      },
      "source": [
        "## 2. Suponha que as moedas disponíveis possuem valores expressos como potências de c, ou seja, os valores são $c^0, c^1, c^2, ..., c^k$, para algum inteiro $c> 1$ e $k\\geq 1$. Prove que um algoritmo guloso sempre encontra a solução ótima."
      ]
    },
    {
      "cell_type": "markdown",
      "source": [
        "Pensando nos valores possíveis que encontraremos para essas moedas, percebemos que é um número capaz de somarmos e resultar em qualquer número proposto na entrada, visto que sempre teremos o valor 1 em $c ^ 0$, dessa forma podemos atingir qualquer valor ímpar proposto, e após isso temos potências de $c$, logo poderemos encontrar qualquer número proposto ao fazer essa soma. Utilizando os seguintes exemplos com o algoritmo na questão 1, com alterações que contemplem o cenário da questão 2.\n"
      ],
      "metadata": {
        "id": "FZKY-9r0scVO"
      }
    },
    {
      "cell_type": "code",
      "source": [
        "def calcularTroco(valor, MOEDAS): # Parâmetro: valor para troco\n",
        "    MOEDAS.sort(reverse=True)\n",
        "    solucao = [] # Conjunto de solução\n",
        "\n",
        "    for i in range(len(MOEDAS)): # Loop com parada no fim do conjunto de moedas\n",
        "        solucao.append(\"Moeda: \" + str(MOEDAS[i]) + \" Vezes utilizada: \" + str(valor // MOEDAS[i])) # Inserindo no conjunto solução todas as moedas e quantas foram utilizadas para o troco\n",
        "        valor %= MOEDAS[i] # Regulando o valor para troco\n",
        "\n",
        "    return solucao # Retorna a solução\n",
        "\n",
        "\n",
        "c_moedas = int(input('Digite a variável c: '))\n",
        "k_power = int(input('Digite a variável k: '))\n",
        "quantidadeCasosTeste = int(input('Quantidade de testes: '))\n",
        "MOEDAS = []\n",
        "for i in range(0, k_power): MOEDAS.append(c_moedas**i)\n",
        "print(MOEDAS)\n",
        "for i in range(quantidadeCasosTeste):\n",
        "    valorTroco = int(input(f'Troco {i+1}: '))\n",
        "\n",
        "    print(\"Valor para troco: \" + str(valorTroco))\n",
        "    print(calcularTroco(valorTroco, MOEDAS))"
      ],
      "metadata": {
        "colab": {
          "base_uri": "https://localhost:8080/"
        },
        "id": "SsH2t5BQuNTe",
        "outputId": "a3df83c5-d6ee-4530-c1ec-df94ab03f8a7"
      },
      "execution_count": null,
      "outputs": [
        {
          "output_type": "stream",
          "name": "stdout",
          "text": [
            "Digite a variável c: 3\n",
            "Digite a variável k: 5\n",
            "Quantidade de testes: 3\n",
            "[1, 3, 9, 27, 81]\n",
            "Troco 0: 54\n",
            "Valor para troco: 54\n",
            "['Moeda: 81 Vezes utilizada: 0', 'Moeda: 27 Vezes utilizada: 2', 'Moeda: 9 Vezes utilizada: 0', 'Moeda: 3 Vezes utilizada: 0', 'Moeda: 1 Vezes utilizada: 0']\n",
            "Troco 1: 791\n",
            "Valor para troco: 791\n",
            "['Moeda: 81 Vezes utilizada: 9', 'Moeda: 27 Vezes utilizada: 2', 'Moeda: 9 Vezes utilizada: 0', 'Moeda: 3 Vezes utilizada: 2', 'Moeda: 1 Vezes utilizada: 2']\n",
            "Troco 2: 9854\n",
            "Valor para troco: 9854\n",
            "['Moeda: 81 Vezes utilizada: 121', 'Moeda: 27 Vezes utilizada: 1', 'Moeda: 9 Vezes utilizada: 2', 'Moeda: 3 Vezes utilizada: 2', 'Moeda: 1 Vezes utilizada: 2']\n"
          ]
        }
      ]
    },
    {
      "cell_type": "markdown",
      "metadata": {
        "id": "BpX4F_x19nZc"
      },
      "source": [
        "## 3. Encontre um conjunto de valores para as suas moedas de modo que o algoritmo guloso usado até o momento não seja capaz de obter a solução ótima, caso contrário, prove que o seu algoritmo funciona para quaisquer valores de moedas.\n",
        "\n",
        "Algoritmos gulosos geralmente envolvem uma sequência de escolhas, sempre fazendo a escolha que parece melhor no momento. Contudo, eles não agem como os algoritmos de backtracking, uma vez que fazem uma escolha, eles não retrocedem para desfazer dessa escolha por uma melhor que resultaria em menos passos para uma solução ótima, por isso é fundamental que eles nunca façam uma escolha ruim.\n",
        "\n",
        "Na primeira questão, consideramos um conjunto de moedas $[1, 5, 10, 25, 50]$, cada moeda pode ser usada quantas vezes forem necessárias até atingir o valor do troco.\n",
        "\n",
        "O algoritmo da questão seleciona a maior moeda possível até que a soma do troco tenha sido zerada. O conjunto escolhido são conhecidos da moeda brasileira, então podemos garantir que o algoritmo guloso sempre resultará na solução ótima com o menor número possível de moedas.\n",
        "\n",
        "No entento, usando um conjunto de moedas qualquer, o algoritmo guloso não produz\n",
        "necessariamente uma solução ótima.\n",
        "\n",
        "Exemplo: Usaremos o conjunto $[1, 4, 9, 13, 15]$ e escolheremos como alvo obter o troco de 18 e 26:"
      ]
    },
    {
      "cell_type": "code",
      "source": [
        "MOEDAS = [1, 4, 9, 13, 15] # Conjunto de moedas\n",
        "MOEDAS.sort(reverse=True) # Ordenando de forma decrescente\n",
        "\n",
        "\n",
        "def calcularTroco(valor): # Parâmetro: valor para troco\n",
        "    solucao = [] # Conjunto de solução\n",
        "\n",
        "    for i in range(len(MOEDAS)): # Loop com parada no fim do conjunto de moedas\n",
        "        solucao.append(\"Moeda: \" + str(MOEDAS[i]) + \" Vezes utilizada: \" + str(valor // MOEDAS[i])) # Inserindo no conjunto solução todas as moedas e quantas foram utilizadas para o troco\n",
        "        valor %= MOEDAS[i] # Regulando o valor para troco\n",
        "\n",
        "    return solucao # Retorna a solução\n",
        "\n",
        "\n",
        "quantidadeCasosTeste = int(input())\n",
        "\n",
        "for i in range(quantidadeCasosTeste):\n",
        "    valorTroco = int(input())\n",
        "\n",
        "    print(\"Valor para troco: \" + str(valorTroco))\n",
        "    print(calcularTroco(valorTroco))"
      ],
      "metadata": {
        "colab": {
          "base_uri": "https://localhost:8080/"
        },
        "id": "TFnPoNYfUc33",
        "outputId": "09138f71-8e11-4365-f6c4-8a3c7684078f"
      },
      "execution_count": null,
      "outputs": [
        {
          "output_type": "stream",
          "name": "stdout",
          "text": [
            "2\n",
            "18\n",
            "Valor para troco: 18\n",
            "['Moeda: 15 Vezes utilizada: 1', 'Moeda: 13 Vezes utilizada: 0', 'Moeda: 9 Vezes utilizada: 0', 'Moeda: 4 Vezes utilizada: 0', 'Moeda: 1 Vezes utilizada: 3']\n",
            "26\n",
            "Valor para troco: 26\n",
            "['Moeda: 15 Vezes utilizada: 1', 'Moeda: 13 Vezes utilizada: 0', 'Moeda: 9 Vezes utilizada: 1', 'Moeda: 4 Vezes utilizada: 0', 'Moeda: 1 Vezes utilizada: 2']\n"
          ]
        }
      ]
    },
    {
      "cell_type": "markdown",
      "source": [
        "Como pode ser observado no código, no primeiro output para o valor 18, o algoritmo guloso retorna a solução 15 + 1 + 1 + 1 enquanto que a solução ótima é 9 + 9. Já no segundo output para o valor 26, o algoritmo guloso retorna a solução 15 + 9 + 1 + 1 enquanto que a solução ótima é 13 + 13.\n",
        "\n",
        "**Conclusão:** O algoritmo guloso é efetivo em retornar a solução ótima para moedas que são padronizadas, como as nacionais, porém não é efetivo quando se usa valores um conjunto de moedas incomuns."
      ],
      "metadata": {
        "id": "IfZ3ZCPWUwu4"
      }
    },
    {
      "cell_type": "markdown",
      "metadata": {
        "id": "jOuhIB2P92tI"
      },
      "source": [
        "### 4. Prove que o problema da mochila fracionária tem a propriedade da escolha gulosa.\n",
        "\n",
        "\n",
        "R:  É possível enxergar a propriedade gulosa no algoritmo pois dada uma sequência de W números crescente, o algoritmo pode selecionar um maior valor em ordem descrescente, de tal forma que de forma \"gulosa\" capta os maiores valores.\n",
        "\n",
        "Pensando numa sequência de itens crescente de números, o algoritmo priorizaria os itens de maior valor, pois agregariam maior valor a mochila. E pensando numa possibilidade que essa sequência W tenha valores iguais, o algoritmo priorizaria outra prioridade dos itens, que são os mais leves.\n"
      ]
    }
  ]
}