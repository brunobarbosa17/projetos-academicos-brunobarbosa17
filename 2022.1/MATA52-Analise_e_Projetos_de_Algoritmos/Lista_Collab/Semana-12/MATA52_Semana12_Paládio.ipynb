{
  "nbformat": 4,
  "nbformat_minor": 0,
  "metadata": {
    "colab": {
      "name": "MATA52-Semana12-Paládio.ipynb",
      "provenance": [],
      "collapsed_sections": []
    },
    "kernelspec": {
      "name": "python3",
      "display_name": "Python 3"
    },
    "language_info": {
      "name": "python"
    }
  },
  "cells": [
    {
      "cell_type": "markdown",
      "metadata": {
        "id": "goIk5UkNPLG_"
      },
      "source": [
        "# MATA52 - Exercícios da Semana 12\n",
        "\n",
        "*   Grupo: Paládio\n",
        "*   Autores: \n",
        " * Bruno de Lucas Santos Barbosa (responsável)\n",
        "     * Disponibilizei a lista e reslvi a segunda questão\n",
        " *  Elis Marcela de Souza Alcantara\n",
        "     * Resolvi a primeira questão.\n",
        " * Monique Santos da Silva\n",
        "     * Respondi a terceira questão."
      ]
    },
    {
      "cell_type": "markdown",
      "source": [
        "# Instruções (não apagar)\n",
        "1. **Responsável**: Após copiar este notebook, altere o nome do notebook/documentação incluindo o nome do seu grupo. Por exemplo, se você é do grupo Ouro, altere o nome do notebook para \"MATA53-Semana02-Ouro.ipynb\"\n",
        "1. **Responsável**: Compartilhe este documento com todos os membros do grupo (para participarem da elaboração deste documento). É importante que o notebook utilizado seja o mesmo compartilhado para que os registros de participação e colaboração fiquem salvos no histórico. Sugira uma divisão justa e defina um prazo aceitável para a inserção das soluções no Colab.\n",
        "1. **Responsável**: Ao concluir a atividade, compartilhe o notebook com januario.ufba@gmail.com (dando permisão para edição) e deixando o aviso de notificação marcado, para que eu receba o seu e-mail. Identificar o nome do grupo na mensagem de compartilhamento.\n",
        "1. **Cada membro**: Incluia o *seu próprio nome completo* na lista de autores que auxiliaram na elaboração deste notebook. Relate brevemente a sua contribuição na solução desta lista. O responsável aparece como sendo o(a) primeiro(a) autor(a).\n",
        "1. **Cada membro**: Utilize os recursos de blocos de texto e de código para adicionar as suas respostas, sem alterar os blocos de texto e código existente. Não economize, esses blocos são de graça.\n",
        "\n",
        "\n"
      ],
      "metadata": {
        "id": "p9cljaaYlYLl"
      }
    },
    {
      "cell_type": "markdown",
      "metadata": {
        "id": "_s9ft-1uYos8"
      },
      "source": [
        "# Exercícios"
      ]
    },
    {
      "cell_type": "markdown",
      "source": [
        "*   Não utilize as funções prontas em python para resolver as questões a seguir.\n",
        "*   Reutilize ao máximo as suas próprias funções.\n",
        "\n"
      ],
      "metadata": {
        "id": "HRehs9QuK2Jk"
      }
    },
    {
      "cell_type": "markdown",
      "metadata": {
        "id": "17ICucpS9m9R"
      },
      "source": [
        "# 1. Fatoração é o termo usado para designar a decomposição que se faz de cada um dos elementos que integram um produto, ou seja, o resultado de uma multiplicação. Dado um número n, implemente uma função em python que exiba os seus fatores. Apresente a análise de complexidade do seu algoritmo."
      ]
    },
    {
      "cell_type": "code",
      "source": [
        "def fatores_de_n(n):\n",
        "    fatores = []\n",
        "    for i in range(1, n + 1):\n",
        "        if n % i == 0:\n",
        "            fatores.append(i)\n",
        "    return fatores\n",
        "\n",
        "print(fatores_de_n(8))\n",
        "print(fatores_de_n(15))"
      ],
      "metadata": {
        "colab": {
          "base_uri": "https://localhost:8080/"
        },
        "id": "640A-ZtJsria",
        "outputId": "b65afb35-3ad4-4e01-a115-55f7978b7fa3"
      },
      "execution_count": null,
      "outputs": [
        {
          "output_type": "stream",
          "name": "stdout",
          "text": [
            "[1, 2, 4, 8]\n",
            "[1, 3, 5, 15]\n"
          ]
        }
      ]
    },
    {
      "cell_type": "markdown",
      "source": [
        "O programa cresce proporcionalmente a entrada de dados, logo, é $O(n)$,"
      ],
      "metadata": {
        "id": "mrhB07S2tmJI"
      }
    },
    {
      "cell_type": "markdown",
      "metadata": {
        "id": "BpX4F_x19nZc"
      },
      "source": [
        "\n",
        "# 2. O máximo divisor comum (abreviadamente, MDC) entre dois ou mais números reais é o maior número real que é fator de tais números. Dados dois números a e b, implemente sua função em python que calcule o MDC. Apresente a análise de complexidade do seu algoritmo.\n",
        "\n",
        "O programa é baseado no crescimento do número de chamadas recursivas e o menor das entradas: $O(min(a,b)$\n",
        "\n"
      ]
    },
    {
      "cell_type": "code",
      "source": [
        "def mdc(a,b):\n",
        "    if (a == 0):\n",
        "        return b;\n",
        "    if (b == 0 or a == b):\n",
        "        return a;\n",
        "\n",
        "    if (a > b):\n",
        "        return mdc(a-b, b)\n",
        "    return mdc(a, b-a);\n",
        "\n",
        "\n",
        "print(mdc(5,8))\n",
        "print(mdc(150,65))\n"
      ],
      "metadata": {
        "colab": {
          "base_uri": "https://localhost:8080/"
        },
        "id": "oLtLjkxKPBie",
        "outputId": "b9e70cf3-19a1-4cd5-e404-ed57fe6b9e63"
      },
      "execution_count": null,
      "outputs": [
        {
          "output_type": "stream",
          "name": "stdout",
          "text": [
            "1\n",
            "5\n"
          ]
        }
      ]
    },
    {
      "cell_type": "markdown",
      "metadata": {
        "id": "qlynhQzj9yKc"
      },
      "source": [
        "# 3. Chamamos números primos entre si (ou coprimos) ao conjunto de números onde o único divisor comum a todos eles é o número 1. Escreva um algoritmo em python que receba um número n e exiba uma matriz que indique os pares de números coprimos entre 1 e n. Apresenta a análise de complexidade do seu algoritmo."
      ]
    },
    {
      "cell_type": "code",
      "source": [
        "def mdc(a, b):\n",
        "    if (a == 0):\n",
        "        return b;\n",
        "    if (b == 0 or a == b):\n",
        "        return a;\n",
        "\n",
        "    if (a > b):\n",
        "        return mdc(a-b, b)\n",
        "    return mdc(a, b-a);\n",
        "\n",
        "def coprimos(n):\n",
        "    raiz = int(n**(1/2))\n",
        "    i = 2\n",
        "    global total\n",
        "    total = 0\n",
        "    while(i < raiz):\n",
        "        if (n % i == 0):\n",
        "            if mdc(i, n // i) == 1:\n",
        "                print(\"[\", i,\",\", (n // i),\"]\")\n",
        "                total += 1\n",
        "        i += 1\n",
        " \n",
        "                 \n",
        "\n",
        "total = 0\n",
        "print(\"Pares coprimos: \")\n",
        "coprimos(160)\n",
        "print(\"Total: \", total)\n",
        "print(' ')\n",
        "\n",
        "print(\"Pares coprimos: \")\n",
        "coprimos(200)\n",
        "print(\"Total: \", total)\n",
        "print(' ')\n",
        "\n",
        "print(\"Pares coprimos: \")\n",
        "coprimos(180)\n",
        "print(\"Total: \", total)"
      ],
      "metadata": {
        "colab": {
          "base_uri": "https://localhost:8080/"
        },
        "id": "p2dyzFAmlNbD",
        "outputId": "0b8562fd-653b-4722-b6f1-5ee484e5f5bd"
      },
      "execution_count": null,
      "outputs": [
        {
          "output_type": "stream",
          "name": "stdout",
          "text": [
            "Pares coprimos: \n",
            "[ 5 , 32 ]\n",
            "Total:  1\n",
            " \n",
            "Pares coprimos: \n",
            "[ 8 , 25 ]\n",
            "Total:  1\n",
            " \n",
            "Pares coprimos: \n",
            "[ 4 , 45 ]\n",
            "[ 5 , 36 ]\n",
            "[ 9 , 20 ]\n",
            "Total:  3\n"
          ]
        }
      ]
    },
    {
      "cell_type": "markdown",
      "source": [
        "Dois números são primos se seu máximo divisor comum for 1. Dois números são coprimos se o único divisor que eles têm em comum é o número 1, ou seja, $mdc(a, b) = 1$.\n",
        "\n",
        "O código executa um loop de 2 até a raiz quadrada de n verificando se $n/i$ são primos entre si ou não, caso true contabiliza o par.\n",
        "\n",
        "**Complexidade: $O(sqrt(n))$**"
      ],
      "metadata": {
        "id": "JN3wfEzklskq"
      }
    },
    {
      "cell_type": "markdown",
      "metadata": {
        "id": "jOuhIB2P92tI"
      },
      "source": [
        "# 4. Prove que na sequência dos números dados por 23 + $n^2$ (n=0, 1, 2, 3, etc.) existem infinitos números divisíveis por 24."
      ]
    }
  ]
}