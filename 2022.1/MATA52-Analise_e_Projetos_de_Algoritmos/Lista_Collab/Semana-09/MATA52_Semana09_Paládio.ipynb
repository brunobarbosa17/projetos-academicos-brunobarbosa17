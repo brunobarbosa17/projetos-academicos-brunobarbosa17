{
  "nbformat": 4,
  "nbformat_minor": 0,
  "metadata": {
    "colab": {
      "name": "MATA52-Semana09-Paládio.ipynb",
      "provenance": [],
      "collapsed_sections": []
    },
    "kernelspec": {
      "name": "python3",
      "display_name": "Python 3"
    },
    "language_info": {
      "name": "python"
    }
  },
  "cells": [
    {
      "cell_type": "markdown",
      "metadata": {
        "id": "goIk5UkNPLG_"
      },
      "source": [
        "# MATA52 - Exercícios da Semana 09\n",
        "\n",
        "*   Grupo: Claude Monet\n",
        "*   Autores: \n",
        " * Bruno de Lucas Santos Barbosa (responsável)\n",
        "     * Eita segunda questão difícil....\n",
        " *  Elis Marcela de Souza Alcantara\n",
        "     * Resolvi a terceira questão.\n",
        " * Lucas dos Santos Lima\n",
        "     * Resolvi a quarta questão.\n",
        "  * Monique Santos da Silva\n",
        "      * Resolvi a primeira questão."
      ]
    },
    {
      "cell_type": "markdown",
      "source": [
        "# Instruções (não apagar)\n",
        "1. **Responsável**: Após copiar este notebook, altere o nome do notebook/documentação incluindo o nome do seu grupo. Por exemplo, se você é do grupo Ouro, altere o nome do notebook para \"MATA53-Semana02-Ouro.ipynb\"\n",
        "1. **Responsável**: Compartilhe este documento com todos os membros do grupo (para participarem da elaboração deste documento). É importante que o notebook utilizado seja o mesmo compartilhado para que os registros de participação e colaboração fiquem salvos no histórico. Sugira uma divisão justa e defina um prazo aceitável para a inserção das soluções no Colab.\n",
        "1. **Responsável**: Ao concluir a atividade, compartilhe o notebook com januario.ufba@gmail.com (dando permisão para edição) e deixando o aviso de notificação marcado, para que eu receba o seu e-mail. Identificar o nome do grupo na mensagem de compartilhamento.\n",
        "1. **Cada membro**: Incluia o *seu próprio nome completo* na lista de autores que auxiliaram na elaboração deste notebook. Relate brevemente a sua contribuição na solução desta lista. O responsável aparece como sendo o(a) primeiro(a) autor(a).\n",
        "1. **Cada membro**: Utilize os recursos de blocos de texto e de código para adicionar as suas respostas, sem alterar os blocos de texto e código existente. Não economize, esses blocos são de graça.\n",
        "\n",
        "\n"
      ],
      "metadata": {
        "id": "p9cljaaYlYLl"
      }
    },
    {
      "cell_type": "markdown",
      "metadata": {
        "id": "_s9ft-1uYos8"
      },
      "source": [
        "# Exercícios"
      ]
    },
    {
      "cell_type": "markdown",
      "source": [
        "Para cada um dos seguintes problemas (se aplicável):\n",
        " * Defina os subproblemas\n",
        " * Reconheça e resolva os casos base\n",
        " * Apresente a recorrência que resolva os subproblemas\n",
        " * Apresente uma implementação ingênua\n",
        " * Apresente uma solução utilizando PD ''top-down'' ou \"bottom-up\"\n",
        " * Analise a complexidade da solução utilizando PD"
      ],
      "metadata": {
        "id": "BVHlYLgIlVT6"
      }
    },
    {
      "cell_type": "markdown",
      "metadata": {
        "id": "17ICucpS9m9R"
      },
      "source": [
        "# 1. Dado um valor monetário de $n$ reais obtidos de forma ilícita, de quantas formas podemos trocar esse valor dado que temos um suprimento infinito de cada uma das cédulas $S = \\{ 1, 2, 5, 10 , 20, 50, 100\\}$?"
      ]
    },
    {
      "cell_type": "markdown",
      "source": [
        "### **Subproblemas**\n",
        "\n",
        "A quantidade de subproblemas depende do valor monetário escolhido, apresenta-se no formato $S * n$, ou seja, sendo o conjunto das cédulas $S = [1,2,5,10,20,50,100]$ e o valor monetário $n$ for $23$, então serão $54$ subproblemas.\n",
        "\n",
        "Nota-se que o valor se torna exponencial, quanto maior o valor de $n$ a quantidade de subproblemas irá se multiplicar. Por exemplo, se escolhermos um valor que fizesse uso de todas as cédulas, como 101, teriamos 4710 subproblemas.\n",
        "\n",
        "### **Casos base**\n",
        "\n",
        "$n = 12$\n",
        "\n",
        "$S=[1,2,5,10,20,50,100]$\n",
        "\n",
        "|                 | 0 | 1 | 2 | 3 | 4 | 5 | 6 | 7 | 8 | 9 | 10 | 11 | 12 |\n",
        "|-----------------|---|---|---|---|---|---|---|---|---|---|----|----|----|\n",
        "| [ ]             | 1 | 0 | 0 | 0 | 0 | 0 | 0 | 0 | 0 | 0 | 0  | 0  | 0  |\n",
        "| [ 1 ]           | 1 | 1 | 1 | 1 | 1 | 1 | 1 | 1 | 1 | 1 | 1  | 1  | 1  |\n",
        "| [ 1, 2 ]        | 1 | 1 | 2 | 2 | 3 | 3 | 4 | 4 | 5 | 5 | 6  | 6  | 7  |\n",
        "| [ 1, 2, 5 ]     | 1 | 1 | 2 | 2 | 3 | 4 | 5 | 6 | 7 | 8 | 10 | 11 | 13 |\n",
        "| [ 1, 2, 5, 10 ] | 1 | 1 | 2 | 2 | 3 | 4 | 5 | 6 | 7 | 8 | 11 | 12 | 15 |\n",
        "\n",
        "O tamanho da tabela é igual a (número de cédulas  + 1) * (n +1). Cada campo da tabela armazena a solução de um subproblema.\n",
        "\n",
        "Com essa demostração, para o valor $n = 12$, foram analisados os elementos $[1, 2, 5, 10]$ do conjunto S. Não há necessidade de prosseguir com os demais elementos, pois são maiores do que o valor $12$. A conclusão encontra-se na última linha e coluna da tabela, $15$ é a quantidade total de maneiras que podemos dar o troco utilizando as cédulas 1, 2, 5 e 10.\n",
        "\n",
        "### **Recorrência que resolve os subproblemas**\n",
        "\n",
        "Recorrência:\n",
        "\n",
        "`tabela[linha][coluna] = tabela[linha - 1][coluna] + tabela[linha][coluna - n[linha-1]]`\n",
        "\n",
        "Existem duas formas para resolver os subproblemas:\n",
        "\n",
        "1) Usando Recursividade:\n",
        "\n",
        "Complexidade de tempo: $O(n²)$\n",
        "\n",
        "Complexidade de espaço: $O(1)$\n",
        "\n",
        "2) Usando programação dinâmica:\n",
        "\n",
        "Complexidade de tempo: $O(S*n)$\n",
        "\n",
        "Complexidade de espaço: $O(n)$\n",
        "\n",
        "### **Implementação ingênua**\n",
        "\n",
        "Implementação ingênua dos exemplos abordados anteriormente com n sendo representado por: 12, 23 e 101\n",
        "\n",
        "A implementação ingênua usa recursividade para resolver os subproblemas. Nesta abordagem, temos que iterar sobre todas as combinações possíveis de moedas que igualam a soma dada toda vez que atualizar o número mínimo de moedas necessário para criar essa soma.\n",
        "\n",
        "Tempo de Complexidade: $O(n²)$ - Toda chamada recursiva está fazendo n chamadas recursivas\n",
        "\n",
        "Espaço: $O(1)$ - Nenhum espaço extra está sendo usado.\n"
      ],
      "metadata": {
        "id": "BPevYjH87Osr"
      }
    },
    {
      "cell_type": "code",
      "source": [
        "def combinacoes(S, indice, n):\n",
        "  if n == 0: return 1\n",
        "  resultado = 0\n",
        "  for i in range(indice, len(S)):\n",
        "    if n - S[i] >= 0:\n",
        "      resultado += combinacoes(S, i, n-S[i])\n",
        "               \n",
        "  return resultado\n",
        "\n",
        "S = [1, 2, 5, 10, 20, 50, 100]\n",
        "n = 12\n",
        "\n",
        "print(\"Cédulas: {} \\nValor monetário = {} \\nTotal de combinações = {}\" .format(S, n, combinacoes(S, 0, n)))\n",
        "print()\n",
        "print(\"Cédulas: {} \\nValor monetário = {} \\nTotal de combinações = {}\" .format(S, 23, combinacoes(S, 0, 23)))\n",
        "print()\n",
        "print(\"Cédulas: {} \\nValor monetário = {} \\nTotal de combinações = {}\" .format(S, 101, combinacoes(S, 0, 101)))"
      ],
      "metadata": {
        "colab": {
          "base_uri": "https://localhost:8080/"
        },
        "id": "KhkUxpOMpsEc",
        "outputId": "4be32e43-11e4-42a0-b940-95e1b8592cbc"
      },
      "execution_count": null,
      "outputs": [
        {
          "output_type": "stream",
          "name": "stdout",
          "text": [
            "Cédulas: [1, 2, 5, 10, 20, 50, 100] \n",
            "Valor monetário = 12 \n",
            "Total de combinações = 15\n",
            "\n",
            "Cédulas: [1, 2, 5, 10, 20, 50, 100] \n",
            "Valor monetário = 23 \n",
            "Total de combinações = 54\n",
            "\n",
            "Cédulas: [1, 2, 5, 10, 20, 50, 100] \n",
            "Valor monetário = 101 \n",
            "Total de combinações = 4710\n"
          ]
        }
      ]
    },
    {
      "cell_type": "markdown",
      "source": [
        "### **Solução utilizando PD \"bottom-up\"**\n",
        "\n",
        "Podemos otimizar a complexidade de tempo de nossa abordagem anterior mantendo uma matriz `PD`, onde `PD[i]` armazena o máximo de maneiras possíveis para cada quantidade. Como a abordagem recursiva tinha muitos subproblemas, a matriz `PD` evitará repetir operações."
      ],
      "metadata": {
        "id": "Z3f1w8o6r0KN"
      }
    },
    {
      "cell_type": "code",
      "source": [
        "def combinacoes(S, n):\n",
        "    pd = [0] * (n + 1)\n",
        "    pd[0] = 1\n",
        "\n",
        "    for i in range(len(S)):\n",
        "        for j in range(1, len(pd)):\n",
        "            if j - S[i] >= 0:\n",
        "                pd[j] += pd[j- S[i]]\n",
        "            else: continue\n",
        "    \n",
        "    return pd[len(pd) - 1]\n",
        "  \n",
        "S = [1, 2, 5, 10, 20, 50, 100]\n",
        "n = 12\n",
        "\n",
        "print(\"Cédulas: {} \\nValor monetário = {} \\nTotal de combinações = {}\" .format(S, n, combinacoes(S, n)))\n",
        "print()\n",
        "print(\"Cédulas: {} \\nValor monetário = {} \\nTotal de combinações = {}\" .format(S, 23, combinacoes(S, 23)))\n",
        "print()\n",
        "print(\"Cédulas: {} \\nValor monetário = {} \\nTotal de combinações = {}\" .format(S, 101, combinacoes(S, 101)))"
      ],
      "metadata": {
        "colab": {
          "base_uri": "https://localhost:8080/"
        },
        "id": "7NzJo_RH_sz9",
        "outputId": "9115f4e4-9c22-45be-b448-28f7841e2130"
      },
      "execution_count": null,
      "outputs": [
        {
          "output_type": "stream",
          "name": "stdout",
          "text": [
            "Cédulas: [1, 2, 5, 10, 20, 50, 100] \n",
            "Valor monetário = 12 \n",
            "Total de combinações = 15\n",
            "\n",
            "Cédulas: [1, 2, 5, 10, 20, 50, 100] \n",
            "Valor monetário = 23 \n",
            "Total de combinações = 54\n",
            "\n",
            "Cédulas: [1, 2, 5, 10, 20, 50, 100] \n",
            "Valor monetário = 101 \n",
            "Total de combinações = 4710\n"
          ]
        }
      ]
    },
    {
      "cell_type": "markdown",
      "source": [
        "### **Complexidade da solução utilizando PD**\n",
        "\n",
        "**Complexidade de tempo:** $O(S * n)$ para cada combinação, calculamos o número de maneiras de formar todos os valores.\n",
        "\n",
        "**Complexidade do Espaço:** $O(n)$ como espaço extra para o máximo de maneiras possíveis para cada quantidade de armazenamento que foi usada."
      ],
      "metadata": {
        "id": "iP03PBGIGVYR"
      }
    },
    {
      "cell_type": "markdown",
      "metadata": {
        "id": "qlynhQzj9yKc"
      },
      "source": [
        "# 2. Dados números $p_1,p_2,\\ldots,p_n,  v_1,v_2,\\ldots,v_n$  e  um subconjunto $X$ de ${1,2,\\ldots,n}$, denotaremos por  p(X)  e  v(X)  as somas  $\\sum_{i\\in X} pi$  e  $\\sum_{i\\in X} vi$  respectivamente. Considere o seguinte problema: Dados números naturais  $p_1, p_2, \\ldots , p_n$,  $v_1$, $v_2, \\ldots, v_n$  e  $c$,  encontrar um subconjunto $X$ de ${1,2,\\ldots,n}$ que  maximize $v(X)$ sob a restrição  $p(X) \\leq c$. "
      ]
    },
    {
      "cell_type": "markdown",
      "metadata": {
        "id": "BpX4F_x19nZc"
      },
      "source": [
        "# 3. Seja um bastão de metal de $n$ metros e um vetor de preços que contém os preços para todas as pedaços de tamanho até $n$. Determine o valor máximo que pode ser obtido com o corte do bastão e venda de seus pedaços. Dica: Capítulo 15 do Cormen."
      ]
    },
    {
      "cell_type": "markdown",
      "source": [
        "Trabalharemos em cima de um pedaço para vender inteiro + seu restante, primeiro resolveremos de forma recursiva.  \n",
        "Tamanho n: o primeiro pedaço tem tamanho n - 1 e o segundo tem tamanho n - 2 e assim por diante.  \n",
        "O custo de venda do primeiro pedaço é o preço do pedaço + o custo de venda do restante, e assim sucessivamente.  \n",
        "Temos a seguinte solução ingênua utilizando recursividade:"
      ],
      "metadata": {
        "id": "0GI9ikujHXuD"
      }
    },
    {
      "cell_type": "code",
      "source": [
        "def problema_bastao_metal(preco, tamanho):\n",
        "    if tamanho == 0:\n",
        "        return 0\n",
        "\n",
        "    preco_max = -1\n",
        "\n",
        "    for i in range(tamanho):\n",
        "        preco_max = max(preco_max, preco[i] + problema_bastao_metal(preco, tamanho - i - 1))\n",
        "\n",
        "    return preco_max\n",
        "\n",
        "print(problema_bastao_metal([1, 3, 4, 5, 7, 9, 10, 11], 8))"
      ],
      "metadata": {
        "colab": {
          "base_uri": "https://localhost:8080/"
        },
        "id": "7Sog8TprHzzA",
        "outputId": "eca2a32f-fc8f-4114-b7e8-dc9f213eb570"
      },
      "execution_count": null,
      "outputs": [
        {
          "output_type": "stream",
          "name": "stdout",
          "text": [
            "12\n"
          ]
        }
      ]
    },
    {
      "cell_type": "markdown",
      "source": [
        "Utilizando memoization, podemos ter uma tabela parar armazenar os valores que já calculamos e assim evitar a recursão, consequentemente deixando o programa mais rápido, basicamente é a mesma implementação da recursividade, porém, adicionando a tabela:"
      ],
      "metadata": {
        "id": "MCEfHjq_KXR2"
      }
    },
    {
      "cell_type": "code",
      "source": [
        "def problema_bastao_metal_memoization(preco, tamanho, memo):\n",
        "    if memo[tamanho] != -1:\n",
        "        return memo[tamanho]\n",
        "\n",
        "    preco_max = -1\n",
        "\n",
        "    for i in range(tamanho):\n",
        "        preco_max = max(preco_max, preco[i] + problema_bastao_metal_memoization(preco, tamanho - i - 1, memo))\n",
        "\n",
        "    memo[tamanho] = preco_max\n",
        "    return preco_max\n",
        "\n",
        "def memoization(tamanho, preco):\n",
        "    memo = [-1] * (tamanho + 1)\n",
        "    memo[0] = 0\n",
        "    problema_bastao_metal_memoization(preco, tamanho, memo)\n",
        "\n",
        "    return memo[tamanho]\n",
        "\n",
        "print(memoization(8, [1, 3, 4, 5, 7, 9, 10, 11]))"
      ],
      "metadata": {
        "colab": {
          "base_uri": "https://localhost:8080/"
        },
        "id": "VYkGRa3HKncm",
        "outputId": "a1ace333-06a0-44d4-bae5-e620ca7dc7a6"
      },
      "execution_count": null,
      "outputs": [
        {
          "output_type": "stream",
          "name": "stdout",
          "text": [
            "12\n"
          ]
        }
      ]
    },
    {
      "cell_type": "markdown",
      "source": [
        "Como cada subproblema é resolvido uma vez por conta da memoization, porém, para resolver um subproblema de tamanho $n$ temos que percorrer $n$ iterações no `for`, e por conta disso todas essas iterações do `for` nas chamadas recursivas criam uma série aritmética que resulta em $O(n^2)$."
      ],
      "metadata": {
        "id": "h265I5a5L2XA"
      }
    },
    {
      "cell_type": "markdown",
      "metadata": {
        "id": "jOuhIB2P92tI"
      },
      "source": [
        "4. Seja a seguinte recorrência sobre o conjunto dos números naturais:\n",
        "\\begin{equation*}\n",
        "  T(n)=\\begin{cases}\n",
        "    T(n-1) + T(n-3)  & \\text{se n $\\geq$ 3}.\\\\\n",
        "    7 & \\text{caso contrário}\n",
        "  \\end{cases}\n",
        "\\end{equation*}\n",
        "Escreva um algoritmo eficiente, utilizando seus conhecimentos de programação dinâmica, que dado $n$, calcule o valor do $n$-ésimo termo da recorrência."
      ]
    },
    {
      "cell_type": "markdown",
      "source": [
        "- Subproblemas: Encontrar o valor de $T(n-1)$ e $T(n-3)$ e somá-los.\n",
        "- Caso base: Caso $n < 3$ então $T(n)=7$\n",
        "- A recorrência é $T(n-1)$ e $T(n-3)$ na qual o número n é sempre subtraído, até atingir o caso base e resolver o subproblema.\n"
      ],
      "metadata": {
        "id": "CJXg1cd0Ywe5"
      }
    },
    {
      "cell_type": "markdown",
      "source": [
        "- Solução Ingênua:"
      ],
      "metadata": {
        "id": "9qLLXjbBbLB9"
      }
    },
    {
      "cell_type": "code",
      "source": [
        "def t(n):\n",
        "  if n < 3: return 7\n",
        "  return t(n-1) + t(n-3)\n",
        "\n",
        "print(t(50))"
      ],
      "metadata": {
        "colab": {
          "base_uri": "https://localhost:8080/"
        },
        "id": "FRYtDHAjbKxN",
        "outputId": "151af03c-ebb0-44c3-afbf-0ecc56d9353f"
      },
      "execution_count": null,
      "outputs": [
        {
          "output_type": "stream",
          "name": "stdout",
          "text": [
            "854742679\n"
          ]
        }
      ]
    },
    {
      "cell_type": "code",
      "source": [
        "# Solução utilizando PD \"Top-Down\"\n",
        "memo = {}\n",
        "def t(n):\n",
        "  if n in memo: return memo[n]\n",
        "  res = 7\n",
        "  if n >= 3: res = t(n-1) + t(n-3)\n",
        "  memo[n] = res\n",
        "  return res\n",
        "\n",
        "print(t(50))"
      ],
      "metadata": {
        "colab": {
          "base_uri": "https://localhost:8080/"
        },
        "id": "TchbYxC5Zugb",
        "outputId": "a870947f-6416-4d62-fa86-f07d2368061c"
      },
      "execution_count": null,
      "outputs": [
        {
          "output_type": "stream",
          "name": "stdout",
          "text": [
            "854742679\n"
          ]
        }
      ]
    },
    {
      "cell_type": "code",
      "source": [
        ""
      ],
      "metadata": {
        "id": "Zh4qcslybRsQ"
      },
      "execution_count": null,
      "outputs": []
    },
    {
      "cell_type": "markdown",
      "source": [
        "Para analisar a complexidade de maneira mais eficaz percebendo a importância da programação dinâmica e principalmente da alternativa utilizada - top-down, primeiro precisamos perceber a assintoticidade da aplicação ingênua e recursiva, na qual temos $O(2^n)$ e $Θ(1.6180^n)$, nesse último sendo exatamente e proporção áurea.\n",
        "\n",
        "Considerando que cada número $n$ só será chamado uma única vez em cada função, é razoável dizer que a complexidade se torna, com a abordagem top-down, $O(n)$, visto que cada valor será chamado uma vez e seu resultado armazenado no dicionário memo, e posteriormente só consultado, não calculado novamente."
      ],
      "metadata": {
        "id": "XYMwSnYQ-aRJ"
      }
    }
  ]
}