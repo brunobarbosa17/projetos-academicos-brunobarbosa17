{
  "nbformat": 4,
  "nbformat_minor": 0,
  "metadata": {
    "colab": {
      "name": "MATA52-Semana04-Paladio.ipynb",
      "provenance": [],
      "collapsed_sections": []
    },
    "kernelspec": {
      "name": "python3",
      "display_name": "Python 3"
    },
    "language_info": {
      "name": "python"
    }
  },
  "cells": [
    {
      "cell_type": "markdown",
      "metadata": {
        "id": "goIk5UkNPLG_"
      },
      "source": [
        "# MATA52 - Exercícios da Semana 04\n",
        "\n",
        "*   Grupo: Grandes baianos\n",
        "*   Autores: \n",
        " * [Monique Silva](https://www.youtube.com/channel/UC__z2DsFoNDdWx1vRne7PSg) (Responsável)\n",
        "     * Disponibilizei a lista de exercícios da semana 4 para os membros terem acesso, no canal do grupo no discord, marquei para reunirmos na quinta-feira (31/02) com o objetivo de resolver as questões da lista. Todos os membros estiveram presente no dia. Em relação a lista, respondi a quarta questão, com base no aprendizado sobre tempo de execução, complexidade e ordenação bucket, além de escutar e debater com meus colegas sobre a resolução de suas questões.\n",
        " * [Lucas dos Santos Lima](https://github.com/LucasDSL)\n",
        "     * Respondi a segunda questão e expliquei o algoritmo e a forma que eu havia colocado na questão para os colegas de grupo, a partir de pesquisas na internet, da aula e do livro proposto para a disciplina.\n",
        " * [Bruno de Lucas Santos Barbosa](https://www.youtube.com/watch?v=5Zj9aef2AEE)\n",
        "     * Respondi a primeira questão explicando meu entendimento sobre a árvore de decisões além de contribuir com o Lucas para o entendimento do algoritmo da segunda questão\n",
        "     \n",
        " * [Elis Marcela de Souza Alcantara](https://www.youtube.com/watch?v=aaEinZSaYhs)\n",
        "     * Resolvi a terceira questão e auxiliei na explicação do Radix MSD e o Radix LSD."
      ]
    },
    {
      "cell_type": "markdown",
      "source": [
        "# Instruções (não apagar)\n",
        "1. **Responsável**: Após copiar este notebook, altere o nome do notebook/documentação incluindo o nome do seu grupo. Por exemplo, se você é do grupo Ouro, altere o nome do notebook para \"MATA53-Semana02-Ouro.ipynb\"\n",
        "1. **Responsável**: Compartilhe este documento com todos os membros do grupo (para participarem da elaboração deste documento). É importante que o notebook utilizado seja o mesmo compartilhado para que os registros de participação e colaboração fiquem salvos no histórico. Sugira uma divisão justa e defina um prazo aceitável para a inserção das soluções no Colab.\n",
        "1. **Responsável**: Ao concluir a atividade, compartilhe o notebook com januario.ufba@gmail.com (dando permisão para edição) e deixando o aviso de notificação marcado, para que eu receba o seu e-mail. Identificar o nome do grupo na mensagem de compartilhamento.\n",
        "1. **Cada membro**: Incluia o *seu próprio nome completo* na lista de autores que auxiliaram na elaboração deste notebook. Relate brevemente a sua contribuição na solução desta lista. O responsável aparece como sendo o(a) primeiro(a) autor(a).\n",
        "1. **Cada membro**: Utilize os recursos de blocos de texto e de código para adicionar as suas respostas, sem alterar os blocos de texto e código existente. Não economize, esses blocos são de graça.\n",
        "\n",
        "\n"
      ],
      "metadata": {
        "id": "p9cljaaYlYLl"
      }
    },
    {
      "cell_type": "markdown",
      "metadata": {
        "id": "_s9ft-1uYos8"
      },
      "source": [
        "# Exercícios"
      ]
    },
    {
      "cell_type": "markdown",
      "metadata": {
        "id": "17ICucpS9m9R"
      },
      "source": [
        "# 1. Qual seria a menor profundidade possível de uma folha em uma árvore de decisão para um processo de ordenação por comparação de $n$ elementos?"
      ]
    },
    {
      "cell_type": "markdown",
      "source": [
        "### **Resposta 1:** \n",
        "\n",
        "A altura mínima de uma árvore de decisões é de $(n\\log n)$ , já a menor profundidade possível seria de $n-1$. \n",
        "\n",
        "$n-1$ indica que o array já está ordenado, então é a profundidade que representa o melhor caso, pois realizamos o menor número de comparações para determinar uma ordem de classificação adequada.\n"
      ],
      "metadata": {
        "id": "cNYcEU4OPdZR"
      }
    },
    {
      "cell_type": "markdown",
      "metadata": {
        "id": "qlynhQzj9yKc"
      },
      "source": [
        "# 2. Apresente o passo a passo do algoritmo de ordenação por contagem para a sequência $A = (6,0,2,0,1,3,4,6,1,3,2)$."
      ]
    },
    {
      "cell_type": "markdown",
      "source": [
        "### **Resposta 2:** \n",
        "\n",
        "Temos a seguinte lista: A = (6,0,2,0,1,3,4,6,1,3,2)\n",
        "O maior número seria o 6, assim criamos uma lista auxiliar com 6 + 1 espaços preenchidos com valor 0:\n",
        "Auxiliar = (0,0,0,0,0,0,0)\n",
        "Nesse array iremos contar a quantidade de vezes que um número aparece de acordo com seu índice.\n",
        "Além disso precisaremos de um array de soma cumulativa, que irá guardar as posições de cada alemento na futura lista organizada.\n",
        "Assim, começamos a percorrer a lista principal e os colocaremos nas seguintes posições:\n",
        "A[0] = 6, somamos 1 na posição 6 da lista auxiliar, logo temos Auxiliar[6]=1\n",
        "\n",
        "A[1] = 0, somamos 1 na posição 0 da lista auxiliar, logo temos Auxiliar[0]=1\n",
        "\n",
        "A[2] = 2, somamos 1 na posição 2 da lista auxiliar, logo temos Auxiliar[2]=1\n",
        "\n",
        "A[3] = 0, somamos 1 na posição 0 da lista auxiliar, logo temos Auxiliar[0]=2\n",
        "\n",
        "A[4] = 1, somamos 1 na posição 1 da lista auxiliar, logo temos Auxiliar[1]=1\n",
        "\n",
        "A[5] = 3, somamos 1 na posição 3 da lista auxiliar, logo temos Auxiliar[3]=1\n",
        "\n",
        "A[6] = 4, somamos 1 na posição 4 da lista auxiliar, logo temos Auxiliar[4]=1\n",
        "\n",
        "A[7] = 6, somamos 1 na posição 6 da lista auxiliar, logo temos Auxiliar[6]=2\n",
        "\n",
        "A[8] = 1, somamos 1 na posição 1 da lista auxiliar, logo temos Auxiliar[1]=2\n",
        "\n",
        "A[9] = 3, somamos 1 na posição 3 da lista auxiliar, logo temos Auxiliar[3]=2\n",
        "\n",
        "A[10] = 2, somamos 1 na posição 2 da lista auxiliar, logo temos Auxiliar[2]=2\n",
        "\n",
        "Agora teremos Auxiliar = (2, 2, 2, 2, 1, 0, 2), relembrando que temos Auxiliar[5] = 0 pois o número 5 não aparece em A.\n",
        "\n",
        "Agora teremos uma lista de soma acumulativa que chamaremos de Acumulativa e irá armazenar as posições (índices) que cada número da lista original preencherá na lista ordenada, ou ao menos nos dizerá a última posição em que ele está presente, e podemos deduzir que entre ele e a última posição do número anterior, teremos somente cópias dele.\n",
        "\n",
        "Assim, podemos seguir o raciocínio que Acumulativa[i] = ∑{t=0]}^{i}Auxiliar[t].\n",
        "Então teremos:\n",
        "\n",
        "Acumulativa[0] = Auxiliar[0]\n",
        "\n",
        "Acumulativa[1] = Auxiliar[0] + Auxiliar[1]\n",
        "\n",
        "Acumulativa[2] = Auxiliar[0] + Auxiliar[1] + Auxiliar[2]\n",
        "\n",
        "Assim sucessivamente para cada elemento da lista Acumulativa, por fim teremos: \n",
        "Acumulativa = (2, 4, 6, 8, 9, 9, 11)\n",
        "\n",
        "Agora a partir da lista acumulativa seguiremos o seguinte raciocínio: Cada índice dessa lista indicará o valor que colocaremos na lista ordenada e o número presente nesse índice reduzido de 1 será a última posição em que colocaremos aquele número*.\n",
        "\n",
        "* reduziremos 1 pois no começo da explicação somamos 1 no maior valor presente na lista A e fizemos desse número o número de posições da lista\n",
        "Auxiliar, para que o maior índice da lista Auxiliar igualasse o maior valor na lista A.\n",
        "\n",
        "Então temos a lista ordenada que chamaremos de Final = (0, 0, 0, 0, 0, 0, 0, 0, 0, 0, 0)\n",
        "\n",
        "Aplicando a lógica supracitada temos: \n",
        "\n",
        "Acumulativa[0] = 2, na posição 2-1 de Final colocaremos 0: Final[1] = 0\n",
        "\n",
        "Acumulativa[1] = 4, na posição 4-1 de Final colocaremos 1: Final[3] = 1\n",
        "\n",
        "Acumulativa[2] = 6, na posição 6-1 de Final colocaremos 2: Final[5] = 2\n",
        "\n",
        "Acumulativa[3] = 8, na posição 8-1 de Final colocaremos 3: Final[7] = 3\n",
        "\n",
        "Acumulativa[4] = 9, na posição 9-1 de Final colocaremos 4: Final[8] = 4\n",
        "\n",
        "Acumulativa[5] = 9, na posição 9-1 de Final colocaremos 5: Final[8] = 5, porém nesse caso não colocaremos nada pois sabemos dois fatos:\n",
        "\n",
        "1. O número 5 não aparece na lista original\n",
        "2. Essa posição já está ocupada \n",
        "\n",
        "Acumulativa[6] = 11, na posição 11-1 de Final colocaremos 6: Final[10] = 6\n",
        "\n",
        "Então a lista Final que temos até agora é: Final = (0, 0(preenchido com 0), 0, 1, 0, 2, 0, 3, 4, 0, 6)\n",
        "\n",
        "Porém como já dito, a primeira posição que inserimos um número na lista final é o ÚLTIMO lugar onde ele aparece, dessa forma é razoável imaginar que havendo espaço antes desse número sem ser preenchido, o preencheremos com o número seguinte.\n",
        "\n",
        "Então temos Final = (0, 0, 1, 1, 2, 2, 3, 3, 4, 6, 6).\n",
        "\n",
        "\n",
        "De maneira resumida: \n",
        "1. Encontramos o maior número no array A\n",
        "2. Num array auxiliar colocamos a quantidade de cada elemento de A em seu índice correspondente \n",
        "3. Num array acumulativo em cada índice colocamos a soma dos elementos do índice 0 até o índice correspondente no array auxiliar \n",
        "4. Num array ordenado final ( poderia ser até mesmo no array original) substituímos cada índice do array Acumulativo na posição \n",
        "n - 1 do array ordenado final, sendo n o valor presente no índice do array Acumulativo.\n",
        "5. Por fim garantimos que qualquer posição não preenchida do array ordenado final fosse preenchido com o número maior seguinte,\n",
        "ou logicamente a cada substituição na posição n - 1, reduzimos 1 de n.\n",
        "\n"
      ],
      "metadata": {
        "id": "CkfcIfKYOf3p"
      }
    },
    {
      "cell_type": "markdown",
      "metadata": {
        "id": "BpX4F_x19nZc"
      },
      "source": [
        "# 3. Apresente o passo a passo do algoritmo de ordenação radix para as palavras: COW, DOG, SEA, RUG, ROW, MOB, BOX, TAB, BAR, EAR, TAR, DIG, BIG, TEA, NOW, FOX."
      ]
    },
    {
      "cell_type": "markdown",
      "source": [
        "### Resposta 3:\n",
        "\n",
        "Utilizando o LSD radix sort que começa a ordenar a partir do fim das strings (LSD = dígito menos significativo)\n",
        "\n",
        "Conjunto $S = {COW, DOG, SEA, RUG, ROW, MOB, BOX, TAB, BAR, EAR, TAR, DIG, BIG, TEA, NOW, FOX}$  \n",
        "Todas as strings do conjunto $S$ tem tamanho $3$.\n",
        "\n",
        "**1ª Coluna:** comparação entre o dígito menos significativo $__X$  \n",
        "**2ª Coluna:** ordem alfabética a partir do dígito menos significativo e comparação entre o dígito do meio $_X_$  \n",
        "**3ª Coluna:** ordem alfabética a partir do dígito do meio e comparação entre o dígito do começo $X__$  \n",
        "**4ª Coluna:** ordem alfabética finalizada\n",
        "\n",
        "CO**W** ➡ S**E**A ➡ **T**AB ➡ BAR  \n",
        "DO**G** ➡ T**E**A ➡ **B**AR ➡ BIG  \n",
        "SE**A** ➡ M**O**B ➡ **E**AR ➡ BOX  \n",
        "RU**G** ➡ T**A**B ➡ **T**AR ➡ COW  \n",
        "RO**W** ➡ D**O**G ➡ **S**EA ➡ DIG  \n",
        "MO**B** ➡ R**U**G ➡ **T**EA ➡ DOG  \n",
        "BO**X** ➡ D**I**G ➡ **D**IG ➡ EAR   \n",
        "TA**B** ➡ B**I**G ➡ **B**IG ➡ FOX  \n",
        "BA**R** ➡ B**A**R ➡ **M**OB ➡ MOB  \n",
        "EA**R** ➡ E**A**R ➡ **D**OG ➡ NOW   \n",
        "TA**R** ➡ T**A**R ➡ **C**OW ➡ ROW  \n",
        "DI**G** ➡ C**O**W ➡ **R**OW ➡ RUG   \n",
        "BI**G** ➡ R**O**W ➡ **N**OW ➡ SEA    \n",
        "TE**A** ➡ N**O**W ➡ **B**OX ➡ TAB    \n",
        "NO**W** ➡ B**O**X ➡ **F**OX ➡ TAR  \n",
        "FO**X** ➡ F**O**X ➡ **R**UG ➡ TEA  \n"
      ],
      "metadata": {
        "id": "fKkr7R8UFXbA"
      }
    },
    {
      "cell_type": "markdown",
      "metadata": {
        "id": "jOuhIB2P92tI"
      },
      "source": [
        "# 4. Explique porque o pior caso da ordenação por bucket pode chegar a $\\theta(n^2)$. Quais alterações devem ser feitas pra a obtenção de um pior caso sendo $O(n \\lg n)$?"
      ]
    },
    {
      "cell_type": "markdown",
      "source": [
        "### **Resposta 4**\n",
        "\n",
        "O tempo de execução do pior caso para o algoritmo bucket-sort ocorre quando a entrada dos valores não é uniformemente distribuída. Se, por exemplo, toda a entrada terminar no primeiro bucket, então na fase de ordenação por inserção ele precisa ordenar toda a entrada, o que leva $O(n^2)$.\n",
        "\n",
        "Para obtermos o tempo de execução do pior caso $O(n\\lg n)$ seria necessário alterar para usar um algoritmo de tempo do pior caso, como o merge sort, em vez de insert sort ao ordenar os buckets."
      ],
      "metadata": {
        "id": "cK-fDM3RMBgS"
      }
    }
  ]
}