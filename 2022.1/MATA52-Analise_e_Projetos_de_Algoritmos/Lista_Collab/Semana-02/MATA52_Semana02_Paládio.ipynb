{
  "nbformat": 4,
  "nbformat_minor": 0,
  "metadata": {
    "colab": {
      "name": "MATA52-Semana02-Paládio.ipynb",
      "provenance": [],
      "collapsed_sections": []
    },
    "kernelspec": {
      "name": "python3",
      "display_name": "Python 3"
    },
    "language_info": {
      "name": "python"
    }
  },
  "cells": [
    {
      "cell_type": "markdown",
      "metadata": {
        "id": "goIk5UkNPLG_"
      },
      "source": [
        "# MATA52 - Exercícios da Semana 02\n",
        "\n",
        "*   Grupo: Paládio\n",
        "*   Autores: \n",
        " * [Elis Marcela de Souza Alcantara](https://www.youtube.com/watch?v=pgXozIma-Oc&list=OLAK5uy_mieL-przDrJDrJdzLrlXeUralT8JvoWEY) (Responsável)\n",
        "     * Convidei os membros para uma primeira tentativa de realizar a lista na quarta-feira (16/03) e todos compareceram, avançamos bastante e respondemos juntos três questões. Marquei mais um encontro na sexta-feira (18/03) e novamente todos compareceram e finalizamos a questão que restava.\n",
        " * [Bruno de Lucas Barbosa](https://www.youtube.com/watch?v=x-xTttimcNk&list=OLAK5uy_mieL-przDrJDrJdzLrlXeUralT8JvoWEY)\n",
        "     * Presente em todos os encontros, auxiliou em todas as questões e durante a pesquisa e esclarecimento de dúvidas.\n",
        " * [Lucas dos Santos Lima](https://www.youtube.com/watch?v=hjpF8ukSrvk&list=OLAK5uy_mieL-przDrJDrJdzLrlXeUralT8JvoWEY)\n",
        "     * Presente em todos os encontros, auxiliou em todas as questões e durante a pesquisa e esclarecimento de dúvidas.\n",
        "  * [Monique Silva](https://www.youtube.com/watch?v=hjpF8ukSrvk&list=OLAK5uy_mieL-przDrJDrJdzLrlXeUralT8JvoWEY)\n",
        "     * Presente em todos os encontros, auxiliou em todas as questões e durante a pesquisa e esclarecimento de dúvidas."
      ]
    },
    {
      "cell_type": "markdown",
      "source": [
        "# Instruções (não apagar)\n",
        "1.   Após criar este notebook, altere o nome do notebook/documentação incluindo o nome do seu grupo. Por exemplo, se você é do grupo Ouro, altere o nome do notebook para \"MATA53-Semana02-Ouro.ipynb\"\n",
        "1. Compartilhe este documento com todos os membros do grupo (para participarem da elaboração deste documento). É importante que o notebook utilizado seja o mesmo compartilhado para que os registros de participação e colaboração fiquem salvos no histórico.\n",
        "1.   Incluia o nome completo dos autores na lista de autores que auxiliaram na elaboração deste notebook. Destaque o responsável como sendo o(a) primeiro(a) autor(a). Relatar brevemente a contribuição de cada membro do grupo.\n",
        "1. Utilize os recursos de blocos de texto e de código para adicionar as suas respostas, sem alterar os blocos de texto e código existente. Não economize, esses blocos são de graça.\n",
        "1. Ao concluir a atividade, compartilhe o notebook com januario.ufba@gmail.com (dando permisão para edição) e deixando o aviso de notificação marcado, para que eu receba o seu e-mail. Identificar o nome do grupo na mensagem de compartilhamento.\n",
        "\n"
      ],
      "metadata": {
        "id": "p9cljaaYlYLl"
      }
    },
    {
      "cell_type": "markdown",
      "metadata": {
        "id": "_s9ft-1uYos8"
      },
      "source": [
        "# Exercícios"
      ]
    },
    {
      "cell_type": "markdown",
      "metadata": {
        "id": "17ICucpS9m9R"
      },
      "source": [
        "## **1. Aplique o método da substituição para mostrar que $T(n) = O(g(n))$ para a relação $T(n) = T(n-1) + n$ e $g(n) = n^2$.**"
      ]
    },
    {
      "cell_type": "markdown",
      "source": [
        "**Resposta 1:**\n",
        "\n",
        "$ T(n) = O(n^2) $ , visto que $g(n) = n^2 $\n",
        "\n",
        "Assim, sabemos que: $ T(n) ≤ cn^2$\n",
        "\n",
        "Aplicando a substituição: \n",
        "\n",
        "$ T(n) = c(n - 1)^2 + n $\n",
        "\n",
        "Resolvendo a equação, temos:\n",
        "\n",
        "$ T(n) = cn^2 - 2cn + c + n $ \n",
        "\n",
        "Eliminando as constantes, temos: \n",
        "\n",
        "$ T(n) = n^2  - n + n $\n",
        "\n",
        "Agora, tanto aplicando a propriedade dos termos dominantes quanto somente realizando a subtração, encontramos o resultado: \n",
        "\n",
        "$ T(n) = n^2 $ , que é o equivalente à função g(n), portanto: \n",
        "\n",
        "$ T(n) = g(n)$ e as duas possuirão complexidade $O(g(n))$ ou $ O(n^2)$."
      ],
      "metadata": {
        "id": "2woLPlohV-yy"
      }
    },
    {
      "cell_type": "markdown",
      "metadata": {
        "id": "qlynhQzj9yKc"
      },
      "source": [
        "# **2. Mostre a árvore de recursão e encontre os limites assintóticos da relação de recorrência $T(n) = 3T(n/4)+n$. Para verificar a correção da sua resposta, use o método de substituição:**"
      ]
    },
    {
      "cell_type": "markdown",
      "source": [
        "**Resposta 2:**\n",
        "\n",
        "Recorrência $T(n) = 3T(\\frac{n}{4}) + n$\n",
        "\n",
        "Fórmula: $T(n)=a\\frac{n}{b} +f (n)$\n",
        "\n",
        "---\n",
        "\n",
        "**Árvore de recursão:**\n",
        "\n",
        "```\n",
        "           ---------------------- n -----------------------\n",
        "          /                       |                        \\\n",
        "    -- T(n/4) --             -- T(n/4) --              -- T(n/4) --\n",
        "   /     |      \\          /      |      \\            /      |     \\\n",
        "T(n/16) T(n/16) T(n/16)  T(n/16) T(n/16) T(n/16)  T(n/16) T(n/16) T(n/16)\n",
        ".         .       .       .        .       .       .        .        . \n",
        ".         .       .       .        .       .       .        .        . \n",
        ".         .       .       .        .       .       .        .        .\n",
        "T(1)     T(1)    T(1)    T(1)     T(1)    T(1)     T(1)     T(1)   T(1)\n",
        "\n",
        "```\n",
        "\n",
        "A árvore de recursão é T(n), faz três chamadas cada de tamanho n/4, então o próximo nível será T(n/4) e cada uma dessas também faz três chamadas com tamanho n/16, como é demostrado no exemplo acima.\n",
        "\n",
        "Em cada um desses níveis, temos n trabalhos. A raiz é n e seus filhos são $3(\\frac{n}{4})$, então $9(\\frac{n}{16})$, e assim por diante.\n",
        "\n",
        "Podemos então perceber um padrão na árvore recursiva, a medida que aumenta o nível, aumenta também o custo corresponde ao somatório das folhas em cada nível. \n",
        "\n",
        "Em profundidade $i=0,1,2,…,lgn$ da árvore tem $3^i$ nós, de custo $n/4^i$\n",
        "\n",
        "Custo:\n",
        "\n",
        "$n*\\sum_{i=0}^{\\log_4^{n-1}} (\\frac{3}{4})^i$\n",
        "\n",
        "Essa série converge a 4n, então podemos descobrir o trabalho total realizado.\n",
        "\n",
        "$3^{{\\log _{4}n}} * ϴ(1) = ϴ(n^{{\\log _{4}3}}) + 4n = O(n) + 4n$\n",
        "\n",
        "Como 4n é uma constante, podemos concluir que sua ordem é **O(n)**.\n",
        "\n",
        "$T(n) = O(n)$\n",
        "\n",
        "---\n",
        "\n",
        "**Verificação usando método da substituição:**\n",
        "\n",
        "Recorrência $T(n) = 3T(\\frac{n}{4}) + n$\n",
        "\n",
        "Suposição: $T(n) = O(n)$\n",
        "\n",
        "---\n",
        "\n",
        "Vamos supor que $T(n) ≤ cn^{\\log _{4}3} - dn$, para todo n ≥ $n_{0}$, onde c, d e n são constantes positivas.\n",
        "\n",
        "\n",
        "$T(n) = 3T(\\frac{n}{4}) + n$\n",
        "\n",
        "$≤ 3(c(\\frac{n}{4})^{{lg4^{3}}} - (\\frac{dn}{4})) + n$\n",
        "\n",
        "$= 3c(\\frac{n^{\\log _{4}3}}{4{\\log _{4}3}}) - 3(\\frac{dn}{4})) + n$\n",
        "\n",
        "$=cn^{\\log _{4}3} - dn - \\frac{dn}{4} + n$\n",
        "\n",
        "$=cn^{\\log _{4}3} - dn - (\\frac{d}{4} - 1) n$\n",
        "\n",
        "$≤ cn^{\\log _{4}3} - dn$\n",
        "\n",
        "O último passo se confirma enquanto ($\\frac{d}{4} -1) n ≥ 0$\n",
        "\n",
        "Se escolhermos $n_{0} = 1 $ entãoa hipótese funciona para qualquer $d ≥ 4$ \n"
      ],
      "metadata": {
        "id": "K80DHjgbWBD0"
      }
    },
    {
      "cell_type": "markdown",
      "metadata": {
        "id": "BpX4F_x19nZc"
      },
      "source": [
        "\n",
        "# **3. Usando o método mestre, resolva a recorrência $T(n) = 4 T(n/2) + n$**"
      ]
    },
    {
      "cell_type": "markdown",
      "source": [
        "**Resposta 3:**\n",
        "\n",
        "**Teorema Mestre:**\n",
        "\n",
        "Sejam $a ≥ 1$ e $b > 1$ constantes e seja $f(n)$ uma função. Para $T(n) = aT (n/b)+f(n)$.\n",
        "\n",
        "1. se $f(n) = O(n^{\\log _{b}a-ε})$ para alguma constante $ε > 0$, então $T(n) = Θ(n^{\\log _{b}a})$;\n",
        "2. se $f(n) = Θ(n^{\\log _{b}a})$, então $T(n) = Θ(n^{\\log _{b}a}logn)$;\n",
        "3. se $f(n) = Ω(n^{\\log _{b}a+ε})$ para alguma constante $ε > 0$ e para n suficientemente grande temos $a*f(n/b) ≤ c*f(n)$ para alguma constante $c < 1$, então $T (n) = Θ(f(n))$.\n",
        "\n",
        "---\n",
        "\n",
        "Observamos na questão que a = 4, b = 2 e f(n) é uma função assintoticamente positiva, logo essas condições são supridas.\n",
        "\n",
        "---\n",
        "\n",
        "Resolvendo a recorrência, através da comparação com a expressão $n^{\\log _{b}a}$:\n",
        "\n",
        "---\n",
        "\n",
        "$n^{\\log _{b}a}$\n",
        "\n",
        "---\n",
        "\n",
        "Substituindo a = 4 e b = 2\n",
        "\n",
        "---\n",
        "\n",
        "$n^{\\log _{2}4}$\n",
        "\n",
        "---\n",
        "\n",
        "Resolvendo o ${\\log _{2}4}$\n",
        "\n",
        "---\n",
        "\n",
        "${\\log _{2}4}$ = $2$\n",
        "\n",
        "---\n",
        "\n",
        "Chegamos ao seguinte resultado:\n",
        "\n",
        "---\n",
        "\n",
        "$n^2$\n",
        "\n",
        "---\n",
        "\n",
        "Podemos ver que a partir desse resultado, o primeiro caso do Teorema Mestre é suprido."
      ],
      "metadata": {
        "id": "hWzNubR-WCfY"
      }
    },
    {
      "cell_type": "markdown",
      "metadata": {
        "id": "jOuhIB2P92tI"
      },
      "source": [
        "# **4. Resolva a formulação recursiva $T(n) = \\frac{1}{n} \\sum_{i=0}^{n-1} T(i) + \\Theta(n)$**"
      ]
    },
    {
      "cell_type": "markdown",
      "source": [
        "**Resposta 4:** \n",
        "\n",
        "$ n * (T(n)) = n * (\\frac{1}{n} ∑_{i=0}^{n - 1} T(i) + Θ(n)) $\n",
        "\n",
        "$ nT(n) = ∑_{i=0}^{n - 1}T(i) + nΘ(n) $\n",
        "\n",
        "$ nT(n) = ∑_{i=0}^{n - 1}T(i) + nΘ(n) $\n",
        "\n",
        "Caso utilizássemos o número (n - 1), encontraríamos de forma semelhante: \n",
        "\n",
        "$ (n - 1)T(n - 1) = ∑_{i=0}^{n - 2}T(i) + (n - 1)Θ(n) $\n",
        "\n",
        "Agora subtraindo essa última da primeira, teríamos:\n",
        "\n",
        "$ nT(n) - (n - 1)T(n - 1) = ∑_{i=0}^{n - 1}T(i) + nΘ(n) - [ ∑_{i=0}^{n - 2}T(i) + nΘ(n) - Θ(n)] $\n",
        "\n",
        "$ nT(n) - (n - 1)T(n - 1) = ∑_{i=0}^{n - 1}T(i) + nΘ(n) - ∑_{i=0}^{n - 2}T(i) - nΘ(n) $\n",
        "\n",
        "Agora consideramos nΘ(n) = nΘ(n - 1), podemos eliminálos pois estamos subtraindo: \n",
        "\n",
        "$ nT(n) - (n - 1)T(n - 1) = ∑_{i=0}^{n - 1}T(i) - ∑_{i=0}^{n - 2}T(i) + Θ(n) $\n",
        "\n",
        "Continuando:\n",
        "\n",
        "$ nT(n) - nT(n - 1) + T(n - 1) = ∑_{i=0}^{n - 1}T(i) - ∑_{i=0}^{n - 2}T(i) + Θ(n) $\n",
        "\n",
        "Agora relembramos que:\n",
        "\n",
        "$ ∑_{i=0}^{n - 1}T(i) = ∑_{i=0}^{n - 2}T(i) + T(n - 1) + Θ(n) $\n",
        "\n",
        "Substituindo esse valor: \n",
        "\n",
        "$ nT(n) -nT(n - 1) + T(n - 1) = ∑_{i=0}^{n - 2}T(i) + T(n - 1) - ∑_{i=0}^{n - 2}T(i) + Θ(n) $ \n",
        "\n",
        "Temos: \n",
        "\n",
        "$ nT(n) -nT(n - 1) + T(n - 1) = T(n - 1) + Θ(n) $\n",
        "\n",
        "Continuando: \n",
        "\n",
        "$ nT(n) -nT(n - 1) = T(n - 1) - T(n - 1) + Θ(n) $\n",
        "\n",
        "E dividindo cada lado por n, encontramos: \n",
        "\n",
        "$ T(n) = T(n - 1) + Θ(n) $\n",
        "\n",
        "Agora imaginando como a situação decorreria brutalmente, teríamos: \n",
        "\n",
        "O primeiro passo custaria: Θ(n) ou n \n",
        "\n",
        "O segundo passo custaria: Θ(n - 1) ou n - 1\n",
        "\n",
        "O terceiro passo custaria: Θ(n - 2) ou n - 2\n",
        "\n",
        "O quarto passo custaria: Θ(n - 3) ou n - 3 \n",
        "\n",
        ". . .\n",
        "\n",
        "E assim sucessivamente até 0. \n",
        "\n",
        "Então utilizando a soma de P.A. , teremos uma função: \n",
        "\n",
        "$ \\frac{n (n + 1)}{2}  $\n",
        "\n",
        "Equivalente a: \n",
        "\n",
        "$ \\frac{(n^2 + n)}{2} $, uma função de Ordem $ n^2 $ ou $Θ(n^2)$"
      ],
      "metadata": {
        "id": "d2iDlEvmWFXZ"
      }
    }
  ]
}