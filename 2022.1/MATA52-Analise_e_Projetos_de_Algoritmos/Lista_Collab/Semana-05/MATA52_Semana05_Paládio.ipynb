{
  "nbformat": 4,
  "nbformat_minor": 0,
  "metadata": {
    "colab": {
      "name": "MATA52-Semana05-Paládio.ipynb",
      "provenance": [],
      "collapsed_sections": []
    },
    "kernelspec": {
      "name": "python3",
      "display_name": "Python 3"
    },
    "language_info": {
      "name": "python"
    }
  },
  "cells": [
    {
      "cell_type": "markdown",
      "metadata": {
        "id": "goIk5UkNPLG_"
      },
      "source": [
        "# MATA52 - Exercícios da Semana 05\n",
        "\n",
        "*   Grupo: Stromae\n",
        "*   Autores: \n",
        " * [Bruno de Lucas Santos Barbosa](https://www.youtube.com/watch?v=DO8NSL5Wyeg) (Responsável)\n",
        "     * Resolvi a quarta questão implementando uma forma alternativa ao Termoo, além de auxiliar Lucas Lima no resolvimeno da terceira questão\n",
        " * [Elis Marcela de Souza Alcantara](https://www.youtube.com/watch?v=P3QS83ubhHE)\n",
        "     * Resolvi a primeira questão, primeiro pensei que um desarranjo é também uma permutação, a partir disso organizei todas as permutações do objeto de entrada e filtrei somente as que se enquadravam no conceito de desarranjo (a questão da posição).\n",
        " * [Monque Silva](https://www.youtube.com/watch?v=M7Z2tgJo8Hg)\n",
        "     * Respondi a segunda questão, com base nos estudos e pesquisa sobre como usar o algoritmo de backtracking para contar todas as permutações"
      ]
    },
    {
      "cell_type": "markdown",
      "source": [
        "# Instruções (não apagar)\n",
        "1. **Responsável**: Após copiar este notebook, altere o nome do notebook/documentação incluindo o nome do seu grupo. Por exemplo, se você é do grupo Ouro, altere o nome do notebook para \"MATA53-Semana02-Ouro.ipynb\"\n",
        "1. **Responsável**: Compartilhe este documento com todos os membros do grupo (para participarem da elaboração deste documento). É importante que o notebook utilizado seja o mesmo compartilhado para que os registros de participação e colaboração fiquem salvos no histórico. Sugira uma divisão justa e defina um prazo aceitável para a inserção das soluções no Colab.\n",
        "1. **Responsável**: Ao concluir a atividade, compartilhe o notebook com januario.ufba@gmail.com (dando permisão para edição) e deixando o aviso de notificação marcado, para que eu receba o seu e-mail. Identificar o nome do grupo na mensagem de compartilhamento.\n",
        "1. **Cada membro**: Incluia o *seu próprio nome completo* na lista de autores que auxiliaram na elaboração deste notebook. Relate brevemente a sua contribuição na solução desta lista. O responsável aparece como sendo o(a) primeiro(a) autor(a).\n",
        "1. **Cada membro**: Utilize os recursos de blocos de texto e de código para adicionar as suas respostas, sem alterar os blocos de texto e código existente. Não economize, esses blocos são de graça.\n",
        "\n",
        "\n"
      ],
      "metadata": {
        "id": "p9cljaaYlYLl"
      }
    },
    {
      "cell_type": "markdown",
      "metadata": {
        "id": "_s9ft-1uYos8"
      },
      "source": [
        "# Exercícios"
      ]
    },
    {
      "cell_type": "markdown",
      "metadata": {
        "id": "17ICucpS9m9R"
      },
      "source": [
        "## 1. Um desarranjo é uma permutação de $p$ $\\{1,...,n\\}$ tal que nenhum item está na posição correta, ou seja, $p_i = i$. Implemente um código em Python que apresente todos os desarranjos de uma sequência de tamanho $n$."
      ]
    },
    {
      "cell_type": "code",
      "source": [
        "import itertools\n",
        "\n",
        "def desarranjos(p, permutacoes):\n",
        "    return list((i for i in permutacoes if not any(i[j] == p[j] for j in range(len(p)))))\n",
        "\n",
        "n = int(input())\n",
        "p = list(map(int, input().strip().split()))[:n]\n",
        "\n",
        "permutacoes_p = itertools.permutations(p)\n",
        "\n",
        "print(desarranjos(p, permutacoes_p))"
      ],
      "metadata": {
        "id": "GXdUBKttgm8R",
        "colab": {
          "base_uri": "https://localhost:8080/"
        },
        "outputId": "51b1f55d-3344-4cfd-fa3e-d5cca7ee67e6"
      },
      "execution_count": null,
      "outputs": [
        {
          "output_type": "stream",
          "name": "stdout",
          "text": [
            "4\n",
            "1 2 3 4\n",
            "[(2, 1, 4, 3), (2, 3, 4, 1), (2, 4, 1, 3), (3, 1, 4, 2), (3, 4, 1, 2), (3, 4, 2, 1), (4, 1, 2, 3), (4, 3, 1, 2), (4, 3, 2, 1)]\n"
          ]
        }
      ]
    },
    {
      "cell_type": "markdown",
      "metadata": {
        "id": "qlynhQzj9yKc"
      },
      "source": [
        "## 2. Matematicamente, um multiconjunto é a generalização de um conjunto, de tal forma que permite a repetição de elementos. Por exemplo, M = {a, b, c, c, d, e, e} é um multiconjunto distinto de X = {a, b, c, d, e}, apesar de que, se M e X fossem conjuntos, teríamos M=X. Um multiconjunto de n itens pode ter menos de n! (êne fatorial) permutações. Por exemplo {1,1,2,2} tem apenas seis permutações distintas: {1, 1, 2, 2}, {1, 2, 1, 2}, {1, 2, 2, 1}, {2, 1, 1, 2}, {2, 1, 2, 1}, e {2,2,1,1}. Implemente um código em Python que apresente todas as permutações de um multiconjunto de tamanho $n$."
      ]
    },
    {
      "cell_type": "code",
      "source": [
        "def permutacao(conjunto, inicio):\n",
        "    if (inicio == len(conjunto)):\n",
        "        print(conjunto)\n",
        "    visita = set()\n",
        "    for i in range(inicio, len(conjunto)):\n",
        "        if conjunto[i] in visita:\n",
        "              continue\n",
        "        visita.add(conjunto[i])\n",
        "        conjunto[inicio], conjunto[i] = conjunto[i], conjunto[inicio]\n",
        "        permutacao(conjunto, inicio + 1)\n",
        "        conjunto[inicio], conjunto[i] = conjunto[i], conjunto[inicio]\n",
        "\n",
        "conjunto = [1,1,2,2]\n",
        "permutacao(conjunto, 0)"
      ],
      "metadata": {
        "id": "LnfSUXYXgxtX",
        "colab": {
          "base_uri": "https://localhost:8080/"
        },
        "outputId": "eb2e54cc-0cf5-4211-a6aa-4c349a075203"
      },
      "execution_count": null,
      "outputs": [
        {
          "output_type": "stream",
          "name": "stdout",
          "text": [
            "[1, 1, 2, 2]\n",
            "[1, 2, 1, 2]\n",
            "[1, 2, 2, 1]\n",
            "[2, 1, 1, 2]\n",
            "[2, 1, 2, 1]\n",
            "[2, 2, 1, 1]\n"
          ]
        }
      ]
    },
    {
      "cell_type": "markdown",
      "source": [
        "Primeiro escolhemos uma combinação de um conjunto existente, dado exemplo: $[1, 1, 2, 2]$. Em seguida, juntamos o elemento inicial com todas as combinações possíveis a serem produzidas a partir de elementos que sucedem o elemento inicial.\n",
        "\n",
        "O algoritmo backtracking implementado atua trocando os itens de volta para seu local anterior após seu valor ter sido impresso e removendo as duplicatas, de forma a obtermos todas as permutações do conjunto."
      ],
      "metadata": {
        "id": "qSfCh56-JXnv"
      }
    },
    {
      "cell_type": "markdown",
      "metadata": {
        "id": "BpX4F_x19nZc"
      },
      "source": [
        "## 3. Crie um algoritmo que, dado $n$ e $C$, imprime todas as sequências de números positivos\n",
        "## $x_1$, $x_2$, . . . , $x_n$ tal que $x_1 + x_2 + · · · x_n = C$\n"
      ]
    },
    {
      "cell_type": "markdown",
      "source": [
        "Acredito que o algoritmo seguiria o seguinte pseudo-algoritmo: \n",
        "\n",
        "1. Receber as entradas C e N\n",
        "\n",
        "2. Percorrer de 1 até C adicionando valores a uma lista "
      ],
      "metadata": {
        "id": "yzYvQHRxRgCm"
      }
    },
    {
      "cell_type": "markdown",
      "metadata": {
        "id": "jOuhIB2P92tI"
      },
      "source": [
        "## 4. Considere as seguintes informações:\n",
        "* P = conjunto de palavras com 5 letras.\n",
        "* L = conjunto de letras de A a Z (inicialmente vazio).\n",
        "\n",
        "Implemente um algoritmo em python que liste as palavras do conjunto P tal que nenhuma de suas letras esteja no conjunto L. (Se você estiver em um momento de inspiração, evolua a sua implementação para uma versão alternativa do jogo TERMO - https://term.ooo/)"
      ]
    },
    {
      "cell_type": "markdown",
      "source": [
        "Percebi que o Termoo funciona armazenando letras com base na palavra correta, junto com a sua posição na string, montei um mini jogo baseado em como funciona onde não é recebido um feedback do acero na posição, porém é possível ir chutando com base no feedback se a letra está ou não contida na palavra de 5 letras, recebendo um acerto final ou não ao terminar as 5 tentativas"
      ],
      "metadata": {
        "id": "xo3wCGyAGsib"
      }
    },
    {
      "cell_type": "code",
      "source": [
        "#TODO: Descrever nos comentarios o desenvolvimento da questao\n",
        "\n",
        "palavraCorreta = [\"P\", \"A\", \"L\", \"A\", \"D\"]\n",
        "#palavra = input().upper();\n",
        "# L = [\"A\",\"B\",\"C\",\"D\",\"E\",\"F\",\n",
        "#      \"G\",\"H\",\"I\",\"J\",\"K\",\"L\",\n",
        "#      \"M\",\"N\",\"O\",\"P\",\"Q\",\"R\",\n",
        "#      \"S\",\"U\",\"V\",\"W\",\"X\",\"Y\",\"Z\"]\n",
        "\n",
        "L = [];\n",
        "montandoPalavra = [];\n",
        "\n",
        "for i in range(5):\n",
        "    letraDigitada = input().upper();\n",
        "    if(letraDigitada in palavraCorreta):\n",
        "      montandoPalavra.append(letraDigitada);\n",
        "      print(\"########A LETRA ESTÁ CONTIDA NA PALAVRA #########\")\n",
        "    else:\n",
        "      L.append(letraDigitada);\n",
        "\n",
        "if(montandoPalavra == palavraCorreta):\n",
        "    print(\"PARABENS, VOCE ACERTOU A PALAVRA\");\n",
        "else: \n",
        "    print(\"F\")"
      ],
      "metadata": {
        "id": "VmABqT0dg0Bd",
        "colab": {
          "base_uri": "https://localhost:8080/"
        },
        "outputId": "bea62f48-afab-44e8-9174-ddc300700a46"
      },
      "execution_count": null,
      "outputs": [
        {
          "output_type": "stream",
          "name": "stdout",
          "text": [
            "P\n",
            "########A LETRA ESTÁ CONTIDA NA PALAVRA #########\n",
            "A\n",
            "########A LETRA ESTÁ CONTIDA NA PALAVRA #########\n",
            "L\n",
            "########A LETRA ESTÁ CONTIDA NA PALAVRA #########\n",
            "A\n",
            "########A LETRA ESTÁ CONTIDA NA PALAVRA #########\n",
            "D\n",
            "########A LETRA ESTÁ CONTIDA NA PALAVRA #########\n",
            "PARABENS, VOCE ACERTOU A PALAVRA\n"
          ]
        }
      ]
    }
  ]
}