{
  "nbformat": 4,
  "nbformat_minor": 0,
  "metadata": {
    "colab": {
      "name": "MATA52-Semana08-Paladio.ipynb",
      "provenance": [],
      "collapsed_sections": []
    },
    "kernelspec": {
      "name": "python3",
      "display_name": "Python 3"
    },
    "language_info": {
      "name": "python"
    }
  },
  "cells": [
    {
      "cell_type": "markdown",
      "metadata": {
        "id": "goIk5UkNPLG_"
      },
      "source": [
        "# MATA52 - Exercícios da Semana 08\n",
        "\n",
        "*   Grupo: Paladio\n",
        "*   Autores: \n",
        " * Monique Santos da Silva (responsável)\n",
        "     * Respondi a quarta questão.\n",
        " *  Lucas dos Santos Lima\n",
        "     * Respondi a ? questão.\n",
        " * Elis Marcela de Souza Alcantara\n",
        "     * Resolvi a primeira questão.\n",
        " * Bruno de Lucas Santos Barbosa\n",
        "     * Resolvi a segunda questão\n",
        "\n",
        "     "
      ]
    },
    {
      "cell_type": "markdown",
      "source": [
        "# Instruções (não apagar)\n",
        "1. **Responsável**: Após copiar este notebook, altere o nome do notebook/documentação incluindo o nome do seu grupo. Por exemplo, se você é do grupo Ouro, altere o nome do notebook para \"MATA53-Semana02-Ouro.ipynb\"\n",
        "1. **Responsável**: Compartilhe este documento com todos os membros do grupo (para participarem da elaboração deste documento). É importante que o notebook utilizado seja o mesmo compartilhado para que os registros de participação e colaboração fiquem salvos no histórico. Sugira uma divisão justa e defina um prazo aceitável para a inserção das soluções no Colab.\n",
        "1. **Responsável**: Ao concluir a atividade, compartilhe o notebook com januario.ufba@gmail.com (dando permisão para edição) e deixando o aviso de notificação marcado, para que eu receba o seu e-mail. Identificar o nome do grupo na mensagem de compartilhamento.\n",
        "1. **Cada membro**: Incluia o *seu próprio nome completo* na lista de autores que auxiliaram na elaboração deste notebook. Relate brevemente a sua contribuição na solução desta lista. O responsável aparece como sendo o(a) primeiro(a) autor(a).\n",
        "1. **Cada membro**: Utilize os recursos de blocos de texto e de código para adicionar as suas respostas, sem alterar os blocos de texto e código existente. Não economize, esses blocos são de graça.\n",
        "\n",
        "\n"
      ],
      "metadata": {
        "id": "p9cljaaYlYLl"
      }
    },
    {
      "cell_type": "markdown",
      "metadata": {
        "id": "_s9ft-1uYos8"
      },
      "source": [
        "# Exercícios"
      ]
    },
    {
      "cell_type": "markdown",
      "source": [
        "Para cada um dos seguintes problemas:\n",
        " * Defina os subproblemas\n",
        " * Reconheça e resolva os casos base\n",
        " * Apresente a recorrência que resolva os subproblemas\n",
        " * Apresente uma implementação ingênua\n",
        " * Apresente uma solução utilizando PD ''top-down'' ou \"bottom-up\"\n",
        " * Analise a complexidade da solução utilizando PD"
      ],
      "metadata": {
        "id": "JJHTbTn8kagg"
      }
    },
    {
      "cell_type": "markdown",
      "metadata": {
        "id": "17ICucpS9m9R"
      },
      "source": [
        "# 1. Dado um número inteiro $n$, determine o número de formas diferentes de se escrever $n$ como a soma dos números 1, 3 e 4."
      ]
    },
    {
      "cell_type": "markdown",
      "source": [
        "$S_{n}$ (solução de n) é considerado o a quantidade de jeitos diversos que podemos escrever um inteiro $n$ utilizando o conjunto ${1, 3, 4}$. Como por exemplo, o número $6$ pode ser representado dessa forma:\n",
        "\n",
        "1+1+1+1+1+1  \n",
        "3+1+1+1  \n",
        "1+3+1+1  \n",
        "1+1+3+1  \n",
        "1+1+1+3  \n",
        "3+3  \n",
        "4+1+1  \n",
        "1+4+1  \n",
        "1+1+4   \n",
        "\n",
        "Então 6 pode ser representado de 9 formas, $S_{6} = 9$.\n",
        "  \n",
        "Os casos base podem ser definidos como:  \n",
        "\n",
        "| Solução de n| Ocorrência                                     |\n",
        "|-------------|------------------------------------------------|\n",
        "| $S_{n} = 0$ | quando $n = 0$                                 |\n",
        "| $S_{n} = 1$ | quando $n = 2$, acontece apenas com $1 + 1$    |\n",
        "| $S_{n} = 2$ | quando $n = 3$, acontece com $1 + 1 + 1$ e $3$ |\n",
        "| $S_{n} = 1$ | quando $n = 1$, acontece apenas com $1$        |\n",
        "\n",
        "Logo, chegamos a conclusão de que inteiros n além dos contemplados pelos casos base podem ser solucionados com a seguinte recorrência:  \n",
        "\n",
        "$S_{n} = S_{n - 1} + S_{n - 3} + S_{n - 4}$\n",
        "\n",
        "Poderiamos implementar de forma ingênua já que sabemos a recorrência usando recursividade:"
      ],
      "metadata": {
        "id": "MaePJhE9lOKR"
      }
    },
    {
      "cell_type": "code",
      "source": [
        "def formasDeEscreverNcomoSomaDeUmTresQuatro(n):\n",
        "    if n == 0:\n",
        "        return 1\n",
        "    \n",
        "    if n < 0:\n",
        "        return 0\n",
        "    \n",
        "    return formasDeEscreverNcomoSomaDeUmTresQuatro(n - 1) + formasDeEscreverNcomoSomaDeUmTresQuatro(n - 3) + formasDeEscreverNcomoSomaDeUmTresQuatro(n - 4)\n",
        "\n",
        "print(formasDeEscreverNcomoSomaDeUmTresQuatro(6))"
      ],
      "metadata": {
        "colab": {
          "base_uri": "https://localhost:8080/"
        },
        "id": "SY9hzQPtH83d",
        "outputId": "470ee806-8d4d-40bd-9959-18786b0baf31"
      },
      "execution_count": null,
      "outputs": [
        {
          "output_type": "stream",
          "name": "stdout",
          "text": [
            "9\n"
          ]
        }
      ]
    },
    {
      "cell_type": "markdown",
      "source": [
        "Porém, sabemos que em linguagens como Python utilizar recursão é caro e como temos também os casos base podemos implementar utilizando memoization (Top Down):"
      ],
      "metadata": {
        "id": "H5rKFOB7IWlC"
      }
    },
    {
      "cell_type": "code",
      "source": [
        "import numpy as np\n",
        "\n",
        "def formasDeEscreverNcomoSomaDeUmTresQuatro(n):\n",
        "    array_range = n + 1\n",
        "    Sn = np.empty(array_range, dtype=object)\n",
        "\n",
        "    Sn[0] = Sn[1] = Sn[2] = 1 # Casos base\n",
        "    Sn[3] = 2 # Caso base\n",
        "\n",
        "    \n",
        "    for i in range(4, array_range):\n",
        "        Sn[i] = Sn[i - 1] + Sn[i - 3] + Sn[i - 4] # Recorrência\n",
        "\n",
        "    return Sn[n]\n",
        "  \n",
        "print(formasDeEscreverNcomoSomaDeUmTresQuatro(6))"
      ],
      "metadata": {
        "colab": {
          "base_uri": "https://localhost:8080/"
        },
        "id": "k8Hmpaa7JRPT",
        "outputId": "1511721f-2e88-4960-bebc-9ee17005b234"
      },
      "execution_count": null,
      "outputs": [
        {
          "output_type": "stream",
          "name": "stdout",
          "text": [
            "9\n"
          ]
        }
      ]
    },
    {
      "cell_type": "markdown",
      "source": [
        "Utilizamos memoization então nunca iremos calcular uma combinação mais de uma vez. O trabalho realizado por cada chamada basicamente está no loop `for i in range(4, array_range):`, `array_range` sendo `n + 1`, dependemos da entrada, logo, a complexidade é O(n)."
      ],
      "metadata": {
        "id": "xW4uiVULMkM6"
      }
    },
    {
      "cell_type": "markdown",
      "metadata": {
        "id": "qlynhQzj9yKc"
      },
      "source": [
        "# 2. Dada uma matriz formada por apenas 0s e 1s, encontre a maior submatriz quadrada formada apenas por 1s.\n",
        "\n",
        "Olhando para os algoritmos possíveis, vemos que os subproblemas não são tão complexos, é preciso fazer a leitura da matriz e guardar os valores a cada índice desde que possuam o valor de 1, além de armazenar sem que haja perca de índice e torne a nova matriz errada.\n",
        "```\n",
        "matriz = [[0,1,0,1], [1,0,1,0], [1,0,1,0], [1,0,1,0]]\n",
        "# 0 , 1 , 0 , 1\n",
        "# 1 , 0 , 1 , 0\n",
        "# 1 , 0 , 1 , 0\n",
        "# 1 , 0 , 1 , 0\n",
        "# 1 , 0 , 1 , 0\n",
        "novaMatriz = [];\n",
        "for l in range(len(matriz)):\n",
        "    for c in range(len(matriz)):\n",
        "      if (matriz[l][c] == 1):\n",
        "        novaMatriz.append(1);\n",
        "print(novaMatriz)\n",
        "```\n",
        "A partir desse código base, teríamos implementações mais \"brutas\" para resolver os sub-problemas, como o problema pede para que seja a maior sub-quadrada, a inserção de condicionais para medir o tamanho que não ultrapasse o número máximo de linhas e colunas.\n",
        "\n",
        "\n"
      ]
    },
    {
      "cell_type": "markdown",
      "metadata": {
        "id": "BpX4F_x19nZc"
      },
      "source": [
        "# 3. Dada uma matriz formada por apenas 0s e 1s, encontre a maior submatriz formada apenas por 1s. Muito próximo ao problema anterior, porém sem a restrição de ser quadrada."
      ]
    },
    {
      "cell_type": "markdown",
      "metadata": {
        "id": "jOuhIB2P92tI"
      },
      "source": [
        "# 4. Encontre um subvetor com a maior soma possivel. Por exemplo, para a seguinte sequência de valores $[-2,1,-3,4,-1,2,1,-5,4]$ o segmento de soma máxima é $[4,-1,2,1]$ cuja soma é 6.\n",
        "\n",
        "\n"
      ]
    },
    {
      "cell_type": "markdown",
      "source": [
        "Podemos encontrar o subvetor com a maior soma possível mantendo a soma máxima do subvetor que termina em cada índice do vetor. Utilizando o algoritmo de Kadane é possível encontrar a soma máxima de um subvetor contíguo de um vetor com tempo de execução linear $O(n)$ e espaço O(1)."
      ],
      "metadata": {
        "id": "0-7C9s7zWbfD"
      }
    },
    {
      "cell_type": "code",
      "source": [
        "def maiorSubvetor(sequencia):\n",
        "    dp = maximo = sequencia[0]\n",
        "    for i in range(1, len(sequencia)):\n",
        "        dp = max(sequencia[i], dp + sequencia[i])\n",
        "        if dp < 0:\n",
        "              dp = 0\n",
        "        maximo = max(dp, maximo)\n",
        "    return maximo\n",
        "\n",
        "print(\"A soma do maior subvetor é:\", maiorSubvetor([-2, 1, -3, 4, -1, 2, 1, -5, 4]))"
      ],
      "metadata": {
        "colab": {
          "base_uri": "https://localhost:8080/"
        },
        "id": "VfWYmbQSTraN",
        "outputId": "8d527ebe-1403-4a03-d058-beef3bb15c1d"
      },
      "execution_count": null,
      "outputs": [
        {
          "output_type": "stream",
          "name": "stdout",
          "text": [
            "A soma do maior subvetor é: 6\n"
          ]
        }
      ]
    },
    {
      "cell_type": "markdown",
      "source": [
        "Para o vetor acima, o subvetor com a maior soma é [4, -1, 2, 1], cuja soma resulta em 6.\n",
        "\n",
        "**Análise**\n",
        "\n",
        "**Pior caso:**\n",
        "\n",
        "Complexidade: $O(n^2)$\n",
        "\n",
        "O pior caso consiste em calcular a soma de todos os subvetores possíveis, o máximo deles seria a solução.\n",
        "\n",
        "Exemplo:\n",
        "\n",
        "Dada a sequência dos valores $[−2, 1, −3, 4, −1, 2, 1, −5, 4]$, podemos definir seus subvetores:\n",
        "\n",
        "$[−2, 1, −3, 4, −1, 2, 1, −5, 4]$, \n",
        "\n",
        "$[1, -3, 4, -1, 2, 1, −5, 4]$, \n",
        "\n",
        "$[-3, 4, -1, 2, 1, −5, 4]$, \n",
        "\n",
        "$[4, -1, 2, 1, −5, 4]$, \n",
        "\n",
        "$[-1, 2, 1, −5, 4]$, \n",
        "\n",
        "$[2, 1, −5, 4]$, \n",
        "\n",
        "$[1, −5, 4]$, \n",
        "\n",
        "$[ −5, 4]$, \n",
        "\n",
        "$[4]$\n",
        "\n",
        "O maior subvetor é [4, -1, 2, 1, −5, 4], cuja soma resulta em 5.\n",
        "\n",
        "Retirando o último elemento obtemos:\n",
        "$[−2, 1, −3, 4, −1, 2, 1, −5]$, podemos definir seus subvetores:\n",
        "\n",
        "$[−2, 1, −3, 4, −1, 2, 1, −5]$, \n",
        "\n",
        "$[1, -3, 4, -1, 2, 1, −5]$, \n",
        "\n",
        "$[-3, 4, -1, 2, 1, −5]$, \n",
        "\n",
        "$[4, -1, 2, 1, −5]$, \n",
        "\n",
        "$[-1, 2, 1, −5]$, \n",
        "\n",
        "$[2, 1, −5]$, \n",
        "\n",
        "$[1, −5]$, \n",
        "\n",
        "$[−5]$, \n",
        "\n",
        "O maior subvetor é [4, -1, 2, 1, −5], cuja soma resulta em 1.\n",
        "\n",
        "Retirando novamente o último elemento obtemos:\n",
        "$[−2, 1, −3, 4, −1, 2, 1]$, podemos definir seus subvetores:\n",
        "\n",
        "$[−2, 1, −3, 4, −1, 2, 1]$, \n",
        "\n",
        "$[1, -3, 4, -1, 2, 1]$, \n",
        "\n",
        "$[-3, 4, -1, 2, 1]$, \n",
        "\n",
        "$[4, -1, 2, 1]$, \n",
        "\n",
        "$[-1, 2, 1]$, \n",
        "\n",
        "$[2, 1]$, \n",
        "\n",
        "$[1]$, \n",
        "\n",
        "O maior subvetor é $[4, -1, 2, 1]$, cuja soma resulta em 6. Encontramos assim o subvetor da questão.\n",
        "\n",
        "O cenário descrito seria o pior caso, visto que teriamos que percorrer todos os subvetores, à medida que o tamanho do vetor aumenta, o número de subvetores possíveis aumenta rapidamente. Se o tamanho do vetor for n, então a complexidade de tempo desta solução é $O(n^2)$.\n",
        "\n",
        "**Melhor caso:**\n",
        "\n",
        "Complexidade: $O(n)$\n",
        "\n",
        "Com a finalidade de obter o melhor caso, $O(n)$, foi ultilizado o algoritmo de Kadane para evitar cálculos repetidos. O algoritmo procura todos os segmentos contíguos positivos e acompanhar o subvetor contíguo de soma máxima entre todos os segmentos positivos.\n",
        "\n",
        "Primeiro, vamos considerar dois elementos, um que armazena a extremidade máxima do subvetores e outro que armazena a soma máxima até o momento.\n",
        "\n",
        "Sejam essas duas variáveis `dp` e `maximo`, respectivamente. Cada vez que obtemos uma soma positiva, comparamos com `maximo` e atualizamos `maximo` se for o maior valor.\n",
        "\n",
        "A cada índice i, o problema se resume a encontrar o máximo de apenas dois números, `dp`e `maximo`. Assim, o problema do subvetor máximo pode ser resolvido resolvendo esses subproblemas de encontrar `dp` recursivamente.\n",
        "\n",
        "Analisando a complexidade, precisamos percorrer o array apenas uma vez, então a complexidade do tempo é O(n) e a complexidade do espaço é de duas variáveis, ou seja, O(2) = O(1).\n",
        "\n",
        "**Subproblemas**\n",
        "\n",
        "Os subproblemas sobrepostos no algoritmo de Kadane são:\n",
        "\n",
        "`dp = max(sequencia[i], dp + sequencia[i])`\n",
        "\n",
        "`maximo = max(dp, maximo)`\n",
        "\n",
        "dp é avaliado duas vezes para cada i. O algoritmo de Kadane memoriza isso, transformando-o de O(n2) para O(n)\n",
        "\n",
        "**Recorrência:** dp = max(sequencia[i], dp + sequencia[i])\n",
        "\n",
        "**Tipo de solução:** Bottom up\n"
      ],
      "metadata": {
        "id": "xa3FG3RRbFqp"
      }
    }
  ]
}