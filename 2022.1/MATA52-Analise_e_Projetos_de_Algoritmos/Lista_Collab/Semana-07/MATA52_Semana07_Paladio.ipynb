{
  "nbformat": 4,
  "nbformat_minor": 0,
  "metadata": {
    "colab": {
      "name": "MATA52-Semana07-Paladio.ipynb",
      "provenance": [],
      "collapsed_sections": []
    },
    "kernelspec": {
      "name": "python3",
      "display_name": "Python 3"
    },
    "language_info": {
      "name": "python"
    }
  },
  "cells": [
    {
      "cell_type": "markdown",
      "metadata": {
        "id": "goIk5UkNPLG_"
      },
      "source": [
        "# MATA52 - Exercícios da Semana 07\n",
        "\n",
        "*   Grupo: Paladio\n",
        "*   Autores: \n",
        " * Lucas dos Santos Lima (responsável)\n",
        "     * Resolvi a segunda questão.\n",
        " *  Bruno de Lucas Santos Barbosa\n",
        "     * Resolvi a primeira questão\n",
        " * Elis Marcela de Souza Alcantara\n",
        "     * Resolvi a terceira questão.\n",
        " * Monique Santos da Silva\n",
        "     * Resolvi a quarta questão."
      ]
    },
    {
      "cell_type": "markdown",
      "source": [
        "# Instruções (não apagar)\n",
        "1. **Responsável**: Após copiar este notebook, altere o nome do notebook/documentação incluindo o nome do seu grupo. Por exemplo, se você é do grupo Ouro, altere o nome do notebook para \"MATA53-Semana02-Ouro.ipynb\"\n",
        "1. **Responsável**: Compartilhe este documento com todos os membros do grupo (para participarem da elaboração deste documento). É importante que o notebook utilizado seja o mesmo compartilhado para que os registros de participação e colaboração fiquem salvos no histórico. Sugira uma divisão justa e defina um prazo aceitável para a inserção das soluções no Colab.\n",
        "1. **Responsável**: Ao concluir a atividade, compartilhe o notebook com januario.ufba@gmail.com (dando permisão para edição) e deixando o aviso de notificação marcado, para que eu receba o seu e-mail. Identificar o nome do grupo na mensagem de compartilhamento.\n",
        "1. **Cada membro**: Incluia o *seu próprio nome completo* na lista de autores que auxiliaram na elaboração deste notebook. Relate brevemente a sua contribuição na solução desta lista. O responsável aparece como sendo o(a) primeiro(a) autor(a).\n",
        "1. **Cada membro**: Utilize os recursos de blocos de texto e de código para adicionar as suas respostas, sem alterar os blocos de texto e código existente. Não economize, esses blocos são de graça.\n",
        "\n",
        "\n"
      ],
      "metadata": {
        "id": "p9cljaaYlYLl"
      }
    },
    {
      "cell_type": "markdown",
      "metadata": {
        "id": "_s9ft-1uYos8"
      },
      "source": [
        "# Exercícios"
      ]
    },
    {
      "cell_type": "markdown",
      "metadata": {
        "id": "17ICucpS9m9R"
      },
      "source": [
        "# 1. Considere o lançamento de um dado honesto de seis faces e o espaço probabilístico definido pelo conjunto $\\Omega$ = {1, 2, 3, 4, 5, 6} de seus possíveis resultados e pela função de probabilidade $Pr$ que associa a cada evento elementar $E_i$ = {i} — entendido como “o resultado obtido foi i” (i = 1,...,6) — a probabilidade $Pr[E_i] = 1/6$. Calcule a probabilidade de um lançamento tal que “o resultado obtido seja par ou múltipo de 3”. Justifique.\n",
        "\n",
        "\n",
        "\n",
        "*   Dado o conjunto Omega, o evento possuí 5 elementos de possibilidades entre pares e múltiplos de 3: **E = {2, 3, 4, 6}**\n",
        "Já o espaço amostral é composto de 6 elementos = {1,2,3,4,5,6}\n",
        "pelo cálculo probabilístico P(E) = n(E) / n($\\Omega$)\n",
        "obtemos: P(E) = 4/6 = 0,833... = **83%** de que um lançamento tenha o resultado sendo par ou múltiplo de 3.\n",
        "\n",
        "\n"
      ]
    },
    {
      "cell_type": "markdown",
      "metadata": {
        "id": "qlynhQzj9yKc"
      },
      "source": [
        "# 2. Termine a implementação da função abaixo $my\\_random(a,b)$ que gera números no intervalo $[a,b)$ utilizando apenas a função padrão $random.random()$ de python."
      ]
    },
    {
      "cell_type": "code",
      "source": [
        "import random\n",
        "\n",
        "def my_random(a,b):\n",
        "  r = random.random() \n",
        "  r *= 10\n",
        "  while r < a or r >= b: \n",
        "    r = random.random() * 10\n",
        "  return f'{r:.2f}'\n",
        "\n",
        "print(\"Informe valore a e b tal que a < b, e a >= 0. Exemplo: 0 9\")\n",
        "a,b = map(int,input().split())\n",
        "print(\"Eis um número aleatório entre \",a,\"e\",b)\n",
        "print(my_random(a,b))"
      ],
      "metadata": {
        "id": "Bt6dWCXUUcYE",
        "colab": {
          "base_uri": "https://localhost:8080/"
        },
        "outputId": "88220b28-5d24-4e9e-fc86-b2ce4a3161d5"
      },
      "execution_count": null,
      "outputs": [
        {
          "output_type": "stream",
          "name": "stdout",
          "text": [
            "Informe valore a e b tal que a < b, e a >= 0. Exemplo: 0 9\n",
            "0 9\n",
            "Eis um número aleatório entre  0 e 9\n",
            "5.62\n"
          ]
        }
      ]
    },
    {
      "cell_type": "markdown",
      "metadata": {
        "id": "BpX4F_x19nZc"
      },
      "source": [
        "# 3. No Problema da Contratação, supondo que os candidatos sejam apresentados em ordem aleatória, qual é a probabilidade de você contratar exatamente uma vez? Qual é a probabilidade de você contratar exatamente $n$ vezes? Justifique.\n"
      ]
    },
    {
      "cell_type": "markdown",
      "source": [
        "Recapitulando o problema da contratação:"
      ],
      "metadata": {
        "id": "yFmU_l6chtJn"
      }
    },
    {
      "cell_type": "code",
      "source": [
        "def hire_assistant(n):\n",
        "  best = 0 # candidato menos qualificado\n",
        "  for i in range(1,n):\n",
        "    interview candidate i # custo de entrevista ci\n",
        "    if candidate i is better than candidate best:\n",
        "      best = i\n",
        "      hire candidate i # custo de contratacao ch\n",
        "  return best"
      ],
      "metadata": {
        "id": "1_V429S4h23y"
      },
      "execution_count": null,
      "outputs": []
    },
    {
      "cell_type": "markdown",
      "source": [
        "Quando levamos em consideração a contratação única, então sabemos que ninguém sucedendo a pessoa era melhor que ela. Logo, a probabilidade seria uma pessoa contratada/todas as pessoas porque a pessoa contratada é a melhor e a primeira a ser entrevistada:  \n",
        "$1/n$  \n",
        "\n",
        "Quando analisamos a contratação n vezes então a pessoa seguinte é melhor que a pessoa anterior, então estaria ordenado da pior pessoa até a melhor, logo seria uma forma crescente de 1 até n (sendo n a melhor):  \n",
        "$1/n!$"
      ],
      "metadata": {
        "id": "jVb9CdBEiGQh"
      }
    },
    {
      "cell_type": "markdown",
      "metadata": {
        "id": "jOuhIB2P92tI"
      },
      "source": [
        "# 4. Tornando o problema mais interessante,no Problema da Contratação, supondo que os candidatos sejam apresentados em ordem aleatória, qual é a probabilidade de você contratar exatamente duas vez? Justifique.\n",
        "\n"
      ]
    },
    {
      "cell_type": "markdown",
      "source": [
        "O primeiro candidato sempre será contratado, desse modo, se contratarmos dois candidatos, o segundo candidato deve ser o melhor, e os demais candidatos não podem ser melhores do que o primeiro candidato.\n",
        "\n",
        "Suponha que o primeiro candidato seja classificado como $i$, o que acontece com probabilidade $1/n$. Contratar exatamente mais um candidato equivale a exigir que o melhor candidato seja o primeiro a ser entrevistado entre todos os $n−i$ candidatos melhores que $i$ que são classificados em $i+1,i+2,⋯,n$. Isso acontece com uma probabilidade $1/(n−i)$. Então temos $1/n*1/(n−i)$, ou seja:\n",
        "\n",
        "Se considerarmos $P(E_i)=1/n$ para $1≤i≤n$\n",
        "\n",
        "$\\Sigma^{n-1}_{i=1}P(E_i)*\\frac{1}{n-i}$\n",
        "\n",
        "$\\Sigma^{n-1}_{i=1}\\frac{1}{n}*\\frac{1}{n-i}$\n",
        "\n",
        "A probabilidade de contratar exatamente duas vezes é $\\frac{1}{n} * (\\frac{1}{n-1} + \\frac{1}{n-2} + ... + 1)$."
      ],
      "metadata": {
        "id": "fgi94Kl66uPI"
      }
    }
  ]
}